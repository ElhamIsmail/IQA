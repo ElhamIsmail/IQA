{
 "cells": [
  {
   "cell_type": "markdown",
   "id": "cd15ecca",
   "metadata": {},
   "source": [
    "# This notebook show the effect of image quality on object detection using Yolo v8 on KITTI dataset "
   ]
  },
  {
   "cell_type": "code",
   "execution_count": 1,
   "id": "5b23ef02",
   "metadata": {
    "scrolled": false
   },
   "outputs": [
    {
     "name": "stdout",
     "output_type": "stream",
     "text": [
      "ERROR setting UTF-8 encoding: 'OutStream' object has no attribute 'buffer'\n"
     ]
    }
   ],
   "source": [
    "import os\n",
    "import cv2\n",
    "import numpy as np\n",
    "from ultralytics import YOLO\n",
    "import pandas as pd\n",
    "import openpyxl\n",
    "import torch\n",
    "import matplotlib.pyplot as plt\n",
    "import seaborn as sns"
   ]
  },
  {
   "cell_type": "markdown",
   "id": "485d16b6",
   "metadata": {},
   "source": [
    "## Initialization for some required parameter"
   ]
  },
  {
   "cell_type": "code",
   "execution_count": 2,
   "id": "810b8ed0",
   "metadata": {},
   "outputs": [
    {
     "name": "stdout",
     "output_type": "stream",
     "text": [
      "E:\\yolo_study_depth\\Yolov8_dp\\000344\n"
     ]
    }
   ],
   "source": [
    "image_path=r\"C:\\Users\\User\\OneDrive\\Desktop\\Master Thesis\\Yolo_study\\Left_image\\000344.png\"\n",
    "depth_map_txt=r\"C:\\Users\\User\\OneDrive\\Desktop\\Master Thesis\\Yolo_study\\Left_image\\000344_depthmap.txt\"\n",
    "image_name,_=os.path.splitext(os.path.basename(image_path))\n",
    "saving_directory=f\"E:\\yolo_study_depth\\Yolov8_dp\\{image_name}\"\n",
    "excel_file=r'E:\\yolo_study_depth\\yolopredication.xlsx'\n",
    "print(saving_directory)"
   ]
  },
  {
   "cell_type": "code",
   "execution_count": 3,
   "id": "eea1109b",
   "metadata": {},
   "outputs": [],
   "source": [
    "# Read the depth map from the text file\n",
    "with open(depth_map_txt, 'r') as file:\n",
    "    depth_map_list = [list(map(float, line.split())) for line in file]\n",
    "depth_map_array = np.array(depth_map_list)"
   ]
  },
  {
   "cell_type": "code",
   "execution_count": 4,
   "id": "825087a4",
   "metadata": {},
   "outputs": [
    {
     "name": "stdout",
     "output_type": "stream",
     "text": [
      "Original Image size= (375, 1242)\n"
     ]
    }
   ],
   "source": [
    "image=cv2.imread(image_path)\n",
    "image_size=image.shape[:2]\n",
    "print(f\"Original Image size= {image_size}\")"
   ]
  },
  {
   "cell_type": "code",
   "execution_count": 5,
   "id": "e2675ad0",
   "metadata": {},
   "outputs": [
    {
     "name": "stdout",
     "output_type": "stream",
     "text": [
      "The increase in the deadpixel percentage is 1% \n"
     ]
    }
   ],
   "source": [
    "initial_prob=0.001 #0.1% of the pixels are dead\n",
    "final_prob=1       #100% of the pixels are dead\n",
    "number_of_steps=75  # the number of images to study\n",
    "step_value=(final_prob-initial_prob)/number_of_steps\n",
    "\n",
    "print(f\"The increase in the deadpixel percentage is {round(step_value*100)}% \")"
   ]
  },
  {
   "cell_type": "markdown",
   "id": "333190c1",
   "metadata": {},
   "source": [
    "## Importing the Yolov8x model"
   ]
  },
  {
   "cell_type": "code",
   "execution_count": 6,
   "id": "a3a40675",
   "metadata": {},
   "outputs": [],
   "source": [
    "model = YOLO('yolov8x.pt')"
   ]
  },
  {
   "cell_type": "markdown",
   "id": "3939c612",
   "metadata": {},
   "source": [
    "## Required Functions"
   ]
  },
  {
   "cell_type": "code",
   "execution_count": 7,
   "id": "60caba28",
   "metadata": {},
   "outputs": [],
   "source": [
    "# Initialize the persistent dead pixels mask\n",
    "persistent_dead_pixels = np.zeros(image_size, dtype=bool)"
   ]
  },
  {
   "cell_type": "code",
   "execution_count": 8,
   "id": "756d4365",
   "metadata": {},
   "outputs": [],
   "source": [
    "def dead_pixel_generation(dp_prob, persistent_mask):\n",
    "    # Generate new dead pixels, only where there are no dead pixels already\n",
    "    new_dead_pixels = (np.random.rand(*image_size) < dp_prob) & ~persistent_mask\n",
    "    # Update the persistent mask to include the new dead pixels\n",
    "    persistent_mask |= new_dead_pixels\n",
    "    dead_pixel_coordinates = np.argwhere(persistent_mask)\n",
    "    number_of_dead_pixels = len(dead_pixel_coordinates)\n",
    "    return dead_pixel_coordinates, number_of_dead_pixels, persistent_mask"
   ]
  },
  {
   "cell_type": "code",
   "execution_count": 9,
   "id": "53cefbb8",
   "metadata": {},
   "outputs": [],
   "source": [
    "def image_with_dp(img, dp_coor,s,saving_dir):\n",
    "    for coordinates in dp_coor:\n",
    "        row, col=coordinates\n",
    "        img[row][col]=[0,0,0]\n",
    "    new_image_name=f\"{image_name}_dp_{s}.jpg\"\n",
    "    image_file_dir=os.path.join(saving_dir,new_image_name)\n",
    "    cv2.imwrite(image_file_dir,img)\n",
    "    return image_file_dir,new_image_name\n",
    "    "
   ]
  },
  {
   "cell_type": "code",
   "execution_count": 10,
   "id": "c5dcb8ab",
   "metadata": {},
   "outputs": [],
   "source": [
    "def get_distances(depth_map, bbox, method):\n",
    "#     print(bbox[0:2])\n",
    "    pt1 = torch.round(bbox[0:2]).to(torch.int).numpy()\n",
    "    pt2 = torch.round(bbox[2:4]).to(torch.int).numpy()\n",
    "\n",
    "    # get center location on image\n",
    "    x_center = np.round((pt1[1] + pt2[1]) / 2).astype(int)\n",
    "    y_center = np.round((pt1[0] + pt2[0]) / 2).astype(int)\n",
    "    #print(\"pt1\",pt1[1])\n",
    "    # get depth slice\n",
    "    depth_slice = depth_map[pt1[1]:pt2[1], pt1[0]:pt2[0]]\n",
    "\n",
    "    # compute median depth to get the distance\n",
    "    if method == 'center':\n",
    "        x_c = np.round((pt2[1] - pt1[1]) / 2).astype(int)\n",
    "        y_c = np.round((pt2[0] - pt1[0]) / 2).astype(int)\n",
    "        stereo_depth = depth_slice[x_c, y_c]\n",
    "    else:\n",
    "        stereo_depth = np.median(depth_slice) \n",
    "        \n",
    "    return stereo_depth"
   ]
  },
  {
   "cell_type": "code",
   "execution_count": 11,
   "id": "aa396561",
   "metadata": {},
   "outputs": [],
   "source": [
    "def results_to_list(img_name,dp_prob,prediction_results,original):\n",
    "    class_info_list=[]\n",
    "    for result in prediction_results:\n",
    "        classes=result.boxes.cls\n",
    "        confedance=result.boxes.conf\n",
    "        box_coordinats=result.boxes.xyxy\n",
    "        speed_detection=result.speed\n",
    "    for i in range(len(classes)):\n",
    "        object_depth=get_distances(depth_map_array,box_coordinats[i],method='median')\n",
    "        box_center_coordinate_x,box_center_coordinate_y=box_center_cal(box_coordinats[i])\n",
    "        if original:\n",
    "            class_info_list.append([str(img_name),float(dp_prob),int(classes.data[i]),float(confedance[i]),tuple([round(float(box_center_coordinate_x),0),round(float(box_center_coordinate_y),0)]),box_coordinats[i],object_depth,i])\n",
    "        else:\n",
    "            class_info_list.append([str(img_name),float(dp_prob),int(classes.data[i]),float(confedance[i]),tuple([round(float(box_center_coordinate_x),0),round(float(box_center_coordinate_y),0)]),box_coordinats[i]])\n",
    "    return class_info_list"
   ]
  },
  {
   "cell_type": "code",
   "execution_count": 12,
   "id": "ab5961b2",
   "metadata": {},
   "outputs": [],
   "source": [
    "def fill_missing_classes(original_list, filtered_list, img, pd_prob):\n",
    "    modified_filtered_list = []\n",
    "    used_filtered_indices = set()  # Track items that have been matched\n",
    "\n",
    "    # Define maximum allowed differences for position and size\n",
    "    max_position_difference = 50\n",
    "    max_size_difference = 50\n",
    "\n",
    "    # Iterate through each original item\n",
    "    for original_index, original_item in enumerate(original_list):\n",
    "        closest_match = None\n",
    "        closest_match_index = None\n",
    "        smallest_difference = float('inf')\n",
    "\n",
    "        # Iterate through each item to find the closest match\n",
    "        for filtered_index, filtered_item in enumerate(filtered_list):\n",
    "            if filtered_index in used_filtered_indices:\n",
    "                continue  # Skip this item if it has been used\n",
    "\n",
    "            if original_item[2] == filtered_item[2]:  # Check if classes match\n",
    "                # Calculate the total difference based on position and size\n",
    "                position_difference = abs(original_item[4][0] - filtered_item[4][0]) + abs(original_item[4][1] - filtered_item[4][1])\n",
    "                size_difference = abs(original_item[5][2] - filtered_item[5][2]) + abs(original_item[5][3] - filtered_item[5][3])\n",
    "\n",
    "                # Check if the differences are within the maximum allowed\n",
    "                if position_difference <= max_position_difference and size_difference <= max_size_difference:\n",
    "                    total_difference = position_difference + size_difference\n",
    "                    \n",
    "                    # If this item is the closest match so far, record it\n",
    "                    if total_difference < smallest_difference:\n",
    "                        closest_match = filtered_item\n",
    "                        closest_match_index = filtered_index\n",
    "                        smallest_difference = total_difference\n",
    "        \n",
    "        # If a closest match within the thresholds was found, add to the modified list\n",
    "        if closest_match is not None:\n",
    "            used_filtered_indices.add(closest_match_index)  # Mark this item as used\n",
    "            original_depth = original_item[6]\n",
    "            modified_item = closest_match[:]  # Create a copy to avoid modifying the original\n",
    "            modified_item.insert(6, original_depth)  # Insert original depth\n",
    "            modified_item.insert(7, original_index)  # Insert original index\n",
    "            modified_filtered_list.append(modified_item)\n",
    "        else:\n",
    "            # No suitable match found within the bounds, add a placeholder\n",
    "            modified_filtered_list.append([img,pd_prob,\"No_detected\", 0, (0, 0),(0,0,0,0),0,original_list.index(original_item)])\n",
    "\n",
    "    return modified_filtered_list"
   ]
  },
  {
   "cell_type": "code",
   "execution_count": 13,
   "id": "57804ab8",
   "metadata": {},
   "outputs": [],
   "source": [
    "def box_center_cal(box_coord):\n",
    "    x_box_coordinates=(box_coord[0]+box_coord[2])/2\n",
    "    y_box_coordinates=(box_coord[1]+box_coord[3])/2\n",
    "    return x_box_coordinates,y_box_coordinates\n"
   ]
  },
  {
   "cell_type": "code",
   "execution_count": 14,
   "id": "518cdd9b",
   "metadata": {},
   "outputs": [],
   "source": [
    "def saving_excel(file_path, sheet_name, predication_results_info):\n",
    "    if sheet_name==\"Dp_study\":\n",
    "        headers=[\"Image_name\",\"Dead_pixels_Prop\",\"Class\",\"Confidance\",\"Center_of_object\",\"Box_coordinats_xyxy\",\"Object_Depth\",\"Index_to_origin\"]\n",
    "    elif sheet_name==\"Blur_study\":\n",
    "        headers=[\"Image_name\",\"Main_image_name\",\"Kernal_size\",\"Sigma_value\",\"Class\",\"Confidance\",\"Center_of_object\",\"Box_coordinats_xyxy\",\"Object_Depth\",\"Index_to_origin\"]\n",
    "    elif sheet_name ==\"Pnoise_study_normal\":\n",
    "        headers=[\"Image_name\",\"Main_image\",\"K_value\",\"B_value\",\"Class\",\"Confidance\",\"Center_of_object\",\"Box_coordinats_xyxy\",\"Object_Depth\",\"Index_to_origin\"]\n",
    "    elif sheet_name ==\"Pnoise_study_dark\":\n",
    "        headers=[\"Image_name\",\"Main_image\",\"K_value\",\"B_value\",\"Class\",\"Confidance\",\"Center_of_object\",\"Box_coordinats_xyxy\",\"Object_Depth\",\"Index_to_origin\"]\n",
    "    elif sheet_name== \"Gnoise_study\":\n",
    "        headers=[\"Image_name\",\"Main_image\",\"Sigma_value\",\"Mean_value\",\"Class\",\"Confidance\",\"Center_of_object\",\"Box_coordinats_xyxy\",\"Object_Depth\",\"Index_to_origin\"]\n",
    "    \n",
    "    try:\n",
    "        workbook = openpyxl.load_workbook(file_path)\n",
    "    except FileNotFoundError:\n",
    "        workbook = openpyxl.Workbook()\n",
    "\n",
    "    if sheet_name in workbook.sheetnames:\n",
    "        sheet = workbook[sheet_name]\n",
    "    else:\n",
    "        sheet = workbook.create_sheet(title=sheet_name)\n",
    "    \n",
    "    next_row = sheet.max_row\n",
    "    \n",
    "    if next_row ==1:\n",
    "        sheet.append(headers)\n",
    "    \n",
    "    for row_data in predication_results_info:\n",
    "        row_data = [str(value) for value in row_data]\n",
    "        sheet.append(row_data)\n",
    "        \n",
    "    workbook.save(file_path)\n"
   ]
  },
  {
   "cell_type": "code",
   "execution_count": 15,
   "id": "06dda804",
   "metadata": {},
   "outputs": [],
   "source": [
    "def saving_summary_excel(image_name,main_image, file_path, row_data):\n",
    "    # Assuming row_data[0].verbose() returns a string of comma-separated values\n",
    "    log = row_data[0].verbose()\n",
    "    log = list(log.split(\",\"))\n",
    "    while ' ' in log:\n",
    "        log.remove(' ')\n",
    "\n",
    "    # Preparing new data to be appended\n",
    "    new_data = {\"Image Name\": image_name, \"Main Image Name\": main_image,\"Detection Results\": [log]}\n",
    "    df_new = pd.DataFrame(new_data)\n",
    "\n",
    "    sheet_name = \"Summary\"\n",
    "\n",
    "    try:\n",
    "        with pd.ExcelWriter(file_path, engine='openpyxl', mode='a', if_sheet_exists='overlay') as writer:\n",
    "            if sheet_name in writer.sheets:\n",
    "                df_existing = pd.read_excel(file_path, sheet_name=sheet_name)\n",
    "                df_final = pd.concat([df_existing, df_new], ignore_index=True)\n",
    "            else:\n",
    "                # If the sheet does not exist, just use the new data\n",
    "                df_final = df_new\n",
    "            \n",
    "            df_final.to_excel(writer, sheet_name=sheet_name, index=False)\n",
    "\n",
    "    except FileNotFoundError:\n",
    "        # If the file does not exist, create it with the new data\n",
    "        df_new.to_excel(file_path, sheet_name=sheet_name, index=False)\n"
   ]
  },
  {
   "cell_type": "markdown",
   "id": "188c3e6d",
   "metadata": {},
   "source": [
    "## Original Image processing"
   ]
  },
  {
   "cell_type": "code",
   "execution_count": 16,
   "id": "67abcda5",
   "metadata": {
    "scrolled": false
   },
   "outputs": [
    {
     "name": "stdout",
     "output_type": "stream",
     "text": [
      "\n",
      "0: 224x640 5 cars, 1371.1ms\n",
      "Speed: 13.1ms preprocess, 1371.1ms inference, 6.3ms postprocess per image at shape (1, 3, 224, 640)\n",
      "Results saved to \u001b[1mE:\\yolo_study_depth\\Yolov8_dp\\000344\\OriginalImage\u001b[0m\n",
      "1 label saved to E:\\yolo_study_depth\\Yolov8_dp\\000344\\OriginalImage\\labels\n"
     ]
    }
   ],
   "source": [
    "results_original= model(image,save=True, project=saving_directory, name=\"OriginalImage\",save_txt=True, save_conf=True, )  # predict on an image"
   ]
  },
  {
   "cell_type": "code",
   "execution_count": 17,
   "id": "3333b2f1",
   "metadata": {},
   "outputs": [],
   "source": [
    "names=results_original[0].names\n",
    "#print(names)"
   ]
  },
  {
   "cell_type": "code",
   "execution_count": 18,
   "id": "d09c48a7",
   "metadata": {},
   "outputs": [],
   "source": [
    "original_image_class_list=results_to_list(image_name,int(0),results_original,True)"
   ]
  },
  {
   "cell_type": "code",
   "execution_count": 19,
   "id": "66a7acd5",
   "metadata": {},
   "outputs": [],
   "source": [
    "saving_summary_excel(image_name,image_name,excel_file,results_original)\n",
    "saving_excel(excel_file,\"Dp_study\",original_image_class_list)"
   ]
  },
  {
   "cell_type": "markdown",
   "id": "beb15f6b",
   "metadata": {},
   "source": [
    "## Adding dead pixels and study the effect"
   ]
  },
  {
   "cell_type": "code",
   "execution_count": 20,
   "id": "105009c3",
   "metadata": {},
   "outputs": [
    {
     "name": "stdout",
     "output_type": "stream",
     "text": [
      "\n",
      "image 1/1 E:\\yolo_study_depth\\Yolov8_dp\\000344\\000344_dp_0.jpg: 224x640 5 cars, 995.0ms\n",
      "Speed: 0.0ms preprocess, 995.0ms inference, 3.0ms postprocess per image at shape (1, 3, 224, 640)\n",
      "Results saved to \u001b[1mE:\\yolo_study_depth\\Yolov8_dp\\000344\\000344_dp_0\u001b[0m\n",
      "1 label saved to E:\\yolo_study_depth\\Yolov8_dp\\000344\\000344_dp_0\\labels\n",
      "\n",
      "image 1/1 E:\\yolo_study_depth\\Yolov8_dp\\000344\\000344_dp_1.jpg: 224x640 5 cars, 1081.6ms\n",
      "Speed: 1.9ms preprocess, 1081.6ms inference, 10.0ms postprocess per image at shape (1, 3, 224, 640)\n",
      "Results saved to \u001b[1mE:\\yolo_study_depth\\Yolov8_dp\\000344\\000344_dp_1\u001b[0m\n",
      "1 label saved to E:\\yolo_study_depth\\Yolov8_dp\\000344\\000344_dp_1\\labels\n",
      "\n",
      "image 1/1 E:\\yolo_study_depth\\Yolov8_dp\\000344\\000344_dp_2.jpg: 224x640 5 cars, 910.1ms\n",
      "Speed: 2.2ms preprocess, 910.1ms inference, 0.0ms postprocess per image at shape (1, 3, 224, 640)\n",
      "Results saved to \u001b[1mE:\\yolo_study_depth\\Yolov8_dp\\000344\\000344_dp_2\u001b[0m\n",
      "1 label saved to E:\\yolo_study_depth\\Yolov8_dp\\000344\\000344_dp_2\\labels\n",
      "\n",
      "image 1/1 E:\\yolo_study_depth\\Yolov8_dp\\000344\\000344_dp_3.jpg: 224x640 5 cars, 1372.2ms\n",
      "Speed: 3.1ms preprocess, 1372.2ms inference, 9.5ms postprocess per image at shape (1, 3, 224, 640)\n",
      "Results saved to \u001b[1mE:\\yolo_study_depth\\Yolov8_dp\\000344\\000344_dp_3\u001b[0m\n",
      "1 label saved to E:\\yolo_study_depth\\Yolov8_dp\\000344\\000344_dp_3\\labels\n",
      "\n",
      "image 1/1 E:\\yolo_study_depth\\Yolov8_dp\\000344\\000344_dp_4.jpg: 224x640 4 cars, 1067.3ms\n",
      "Speed: 2.4ms preprocess, 1067.3ms inference, 4.3ms postprocess per image at shape (1, 3, 224, 640)\n",
      "Results saved to \u001b[1mE:\\yolo_study_depth\\Yolov8_dp\\000344\\000344_dp_4\u001b[0m\n",
      "1 label saved to E:\\yolo_study_depth\\Yolov8_dp\\000344\\000344_dp_4\\labels\n",
      "\n",
      "image 1/1 E:\\yolo_study_depth\\Yolov8_dp\\000344\\000344_dp_5.jpg: 224x640 5 cars, 1027.1ms\n",
      "Speed: 0.0ms preprocess, 1027.1ms inference, 0.0ms postprocess per image at shape (1, 3, 224, 640)\n",
      "Results saved to \u001b[1mE:\\yolo_study_depth\\Yolov8_dp\\000344\\000344_dp_5\u001b[0m\n",
      "1 label saved to E:\\yolo_study_depth\\Yolov8_dp\\000344\\000344_dp_5\\labels\n",
      "\n",
      "image 1/1 E:\\yolo_study_depth\\Yolov8_dp\\000344\\000344_dp_6.jpg: 224x640 4 cars, 1002.5ms\n",
      "Speed: 10.0ms preprocess, 1002.5ms inference, 10.0ms postprocess per image at shape (1, 3, 224, 640)\n",
      "Results saved to \u001b[1mE:\\yolo_study_depth\\Yolov8_dp\\000344\\000344_dp_6\u001b[0m\n",
      "1 label saved to E:\\yolo_study_depth\\Yolov8_dp\\000344\\000344_dp_6\\labels\n",
      "\n",
      "image 1/1 E:\\yolo_study_depth\\Yolov8_dp\\000344\\000344_dp_7.jpg: 224x640 4 cars, 1080.2ms\n",
      "Speed: 2.2ms preprocess, 1080.2ms inference, 10.0ms postprocess per image at shape (1, 3, 224, 640)\n",
      "Results saved to \u001b[1mE:\\yolo_study_depth\\Yolov8_dp\\000344\\000344_dp_7\u001b[0m\n",
      "1 label saved to E:\\yolo_study_depth\\Yolov8_dp\\000344\\000344_dp_7\\labels\n",
      "\n",
      "image 1/1 E:\\yolo_study_depth\\Yolov8_dp\\000344\\000344_dp_8.jpg: 224x640 4 cars, 903.6ms\n",
      "Speed: 0.0ms preprocess, 903.6ms inference, 0.0ms postprocess per image at shape (1, 3, 224, 640)\n",
      "Results saved to \u001b[1mE:\\yolo_study_depth\\Yolov8_dp\\000344\\000344_dp_8\u001b[0m\n",
      "1 label saved to E:\\yolo_study_depth\\Yolov8_dp\\000344\\000344_dp_8\\labels\n",
      "\n",
      "image 1/1 E:\\yolo_study_depth\\Yolov8_dp\\000344\\000344_dp_9.jpg: 224x640 5 cars, 1192.4ms\n",
      "Speed: 1.0ms preprocess, 1192.4ms inference, 0.0ms postprocess per image at shape (1, 3, 224, 640)\n",
      "Results saved to \u001b[1mE:\\yolo_study_depth\\Yolov8_dp\\000344\\000344_dp_9\u001b[0m\n",
      "1 label saved to E:\\yolo_study_depth\\Yolov8_dp\\000344\\000344_dp_9\\labels\n",
      "\n",
      "image 1/1 E:\\yolo_study_depth\\Yolov8_dp\\000344\\000344_dp_10.jpg: 224x640 4 cars, 967.3ms\n",
      "Speed: 2.2ms preprocess, 967.3ms inference, 3.9ms postprocess per image at shape (1, 3, 224, 640)\n",
      "Results saved to \u001b[1mE:\\yolo_study_depth\\Yolov8_dp\\000344\\000344_dp_10\u001b[0m\n",
      "1 label saved to E:\\yolo_study_depth\\Yolov8_dp\\000344\\000344_dp_10\\labels\n",
      "\n",
      "image 1/1 E:\\yolo_study_depth\\Yolov8_dp\\000344\\000344_dp_11.jpg: 224x640 4 cars, 1266.2ms\n",
      "Speed: 0.0ms preprocess, 1266.2ms inference, 0.0ms postprocess per image at shape (1, 3, 224, 640)\n",
      "Results saved to \u001b[1mE:\\yolo_study_depth\\Yolov8_dp\\000344\\000344_dp_11\u001b[0m\n",
      "1 label saved to E:\\yolo_study_depth\\Yolov8_dp\\000344\\000344_dp_11\\labels\n",
      "\n",
      "image 1/1 E:\\yolo_study_depth\\Yolov8_dp\\000344\\000344_dp_12.jpg: 224x640 3 cars, 1381.1ms\n",
      "Speed: 0.0ms preprocess, 1381.1ms inference, 4.0ms postprocess per image at shape (1, 3, 224, 640)\n",
      "Results saved to \u001b[1mE:\\yolo_study_depth\\Yolov8_dp\\000344\\000344_dp_12\u001b[0m\n",
      "1 label saved to E:\\yolo_study_depth\\Yolov8_dp\\000344\\000344_dp_12\\labels\n",
      "\n",
      "image 1/1 E:\\yolo_study_depth\\Yolov8_dp\\000344\\000344_dp_13.jpg: 224x640 1 car, 1055.2ms\n",
      "Speed: 0.0ms preprocess, 1055.2ms inference, 4.9ms postprocess per image at shape (1, 3, 224, 640)\n",
      "Results saved to \u001b[1mE:\\yolo_study_depth\\Yolov8_dp\\000344\\000344_dp_13\u001b[0m\n",
      "1 label saved to E:\\yolo_study_depth\\Yolov8_dp\\000344\\000344_dp_13\\labels\n",
      "\n",
      "image 1/1 E:\\yolo_study_depth\\Yolov8_dp\\000344\\000344_dp_14.jpg: 224x640 (no detections), 1375.0ms\n",
      "Speed: 2.0ms preprocess, 1375.0ms inference, 4.0ms postprocess per image at shape (1, 3, 224, 640)\n",
      "Results saved to \u001b[1mE:\\yolo_study_depth\\Yolov8_dp\\000344\\000344_dp_14\u001b[0m\n",
      "0 label saved to E:\\yolo_study_depth\\Yolov8_dp\\000344\\000344_dp_14\\labels\n",
      "\n",
      "image 1/1 E:\\yolo_study_depth\\Yolov8_dp\\000344\\000344_dp_15.jpg: 224x640 (no detections), 1100.6ms\n",
      "Speed: 2.0ms preprocess, 1100.6ms inference, 2.6ms postprocess per image at shape (1, 3, 224, 640)\n",
      "Results saved to \u001b[1mE:\\yolo_study_depth\\Yolov8_dp\\000344\\000344_dp_15\u001b[0m\n",
      "0 label saved to E:\\yolo_study_depth\\Yolov8_dp\\000344\\000344_dp_15\\labels\n",
      "\n",
      "image 1/1 E:\\yolo_study_depth\\Yolov8_dp\\000344\\000344_dp_16.jpg: 224x640 (no detections), 992.5ms\n",
      "Speed: 2.0ms preprocess, 992.5ms inference, 2.0ms postprocess per image at shape (1, 3, 224, 640)\n",
      "Results saved to \u001b[1mE:\\yolo_study_depth\\Yolov8_dp\\000344\\000344_dp_16\u001b[0m\n",
      "0 label saved to E:\\yolo_study_depth\\Yolov8_dp\\000344\\000344_dp_16\\labels\n",
      "\n",
      "image 1/1 E:\\yolo_study_depth\\Yolov8_dp\\000344\\000344_dp_17.jpg: 224x640 (no detections), 1120.2ms\n",
      "Speed: 2.0ms preprocess, 1120.2ms inference, 2.0ms postprocess per image at shape (1, 3, 224, 640)\n",
      "Results saved to \u001b[1mE:\\yolo_study_depth\\Yolov8_dp\\000344\\000344_dp_17\u001b[0m\n",
      "0 label saved to E:\\yolo_study_depth\\Yolov8_dp\\000344\\000344_dp_17\\labels\n",
      "\n",
      "image 1/1 E:\\yolo_study_depth\\Yolov8_dp\\000344\\000344_dp_18.jpg: 224x640 (no detections), 911.8ms\n",
      "Speed: 0.0ms preprocess, 911.8ms inference, 0.0ms postprocess per image at shape (1, 3, 224, 640)\n",
      "Results saved to \u001b[1mE:\\yolo_study_depth\\Yolov8_dp\\000344\\000344_dp_18\u001b[0m\n",
      "0 label saved to E:\\yolo_study_depth\\Yolov8_dp\\000344\\000344_dp_18\\labels\n",
      "\n",
      "image 1/1 E:\\yolo_study_depth\\Yolov8_dp\\000344\\000344_dp_19.jpg: 224x640 (no detections), 1258.4ms\n",
      "Speed: 6.0ms preprocess, 1258.4ms inference, 2.0ms postprocess per image at shape (1, 3, 224, 640)\n",
      "Results saved to \u001b[1mE:\\yolo_study_depth\\Yolov8_dp\\000344\\000344_dp_19\u001b[0m\n",
      "0 label saved to E:\\yolo_study_depth\\Yolov8_dp\\000344\\000344_dp_19\\labels\n",
      "\n",
      "image 1/1 E:\\yolo_study_depth\\Yolov8_dp\\000344\\000344_dp_20.jpg: 224x640 (no detections), 1212.3ms\n",
      "Speed: 3.0ms preprocess, 1212.3ms inference, 3.0ms postprocess per image at shape (1, 3, 224, 640)\n",
      "Results saved to \u001b[1mE:\\yolo_study_depth\\Yolov8_dp\\000344\\000344_dp_20\u001b[0m\n",
      "0 label saved to E:\\yolo_study_depth\\Yolov8_dp\\000344\\000344_dp_20\\labels\n",
      "\n",
      "image 1/1 E:\\yolo_study_depth\\Yolov8_dp\\000344\\000344_dp_21.jpg: 224x640 (no detections), 1011.9ms\n",
      "Speed: 0.0ms preprocess, 1011.9ms inference, 0.0ms postprocess per image at shape (1, 3, 224, 640)\n",
      "Results saved to \u001b[1mE:\\yolo_study_depth\\Yolov8_dp\\000344\\000344_dp_21\u001b[0m\n",
      "0 label saved to E:\\yolo_study_depth\\Yolov8_dp\\000344\\000344_dp_21\\labels\n",
      "\n",
      "image 1/1 E:\\yolo_study_depth\\Yolov8_dp\\000344\\000344_dp_22.jpg: 224x640 (no detections), 1226.5ms\n",
      "Speed: 3.0ms preprocess, 1226.5ms inference, 0.0ms postprocess per image at shape (1, 3, 224, 640)\n",
      "Results saved to \u001b[1mE:\\yolo_study_depth\\Yolov8_dp\\000344\\000344_dp_22\u001b[0m\n",
      "0 label saved to E:\\yolo_study_depth\\Yolov8_dp\\000344\\000344_dp_22\\labels\n",
      "\n",
      "image 1/1 E:\\yolo_study_depth\\Yolov8_dp\\000344\\000344_dp_23.jpg: 224x640 (no detections), 1329.7ms\n",
      "Speed: 2.1ms preprocess, 1329.7ms inference, 2.1ms postprocess per image at shape (1, 3, 224, 640)\n",
      "Results saved to \u001b[1mE:\\yolo_study_depth\\Yolov8_dp\\000344\\000344_dp_23\u001b[0m\n",
      "0 label saved to E:\\yolo_study_depth\\Yolov8_dp\\000344\\000344_dp_23\\labels\n",
      "\n",
      "image 1/1 E:\\yolo_study_depth\\Yolov8_dp\\000344\\000344_dp_24.jpg: 224x640 (no detections), 985.9ms\n",
      "Speed: 10.0ms preprocess, 985.9ms inference, 10.0ms postprocess per image at shape (1, 3, 224, 640)\n",
      "Results saved to \u001b[1mE:\\yolo_study_depth\\Yolov8_dp\\000344\\000344_dp_24\u001b[0m\n",
      "0 label saved to E:\\yolo_study_depth\\Yolov8_dp\\000344\\000344_dp_24\\labels\n",
      "\n",
      "image 1/1 E:\\yolo_study_depth\\Yolov8_dp\\000344\\000344_dp_25.jpg: 224x640 (no detections), 905.8ms\n",
      "Speed: 0.0ms preprocess, 905.8ms inference, 10.0ms postprocess per image at shape (1, 3, 224, 640)\n",
      "Results saved to \u001b[1mE:\\yolo_study_depth\\Yolov8_dp\\000344\\000344_dp_25\u001b[0m\n",
      "0 label saved to E:\\yolo_study_depth\\Yolov8_dp\\000344\\000344_dp_25\\labels\n",
      "\n",
      "image 1/1 E:\\yolo_study_depth\\Yolov8_dp\\000344\\000344_dp_26.jpg: 224x640 (no detections), 1066.3ms\n",
      "Speed: 0.0ms preprocess, 1066.3ms inference, 0.0ms postprocess per image at shape (1, 3, 224, 640)\n",
      "Results saved to \u001b[1mE:\\yolo_study_depth\\Yolov8_dp\\000344\\000344_dp_26\u001b[0m\n",
      "0 label saved to E:\\yolo_study_depth\\Yolov8_dp\\000344\\000344_dp_26\\labels\n",
      "\n",
      "image 1/1 E:\\yolo_study_depth\\Yolov8_dp\\000344\\000344_dp_27.jpg: 224x640 (no detections), 1361.9ms\n",
      "Speed: 0.0ms preprocess, 1361.9ms inference, 3.1ms postprocess per image at shape (1, 3, 224, 640)\n",
      "Results saved to \u001b[1mE:\\yolo_study_depth\\Yolov8_dp\\000344\\000344_dp_27\u001b[0m\n",
      "0 label saved to E:\\yolo_study_depth\\Yolov8_dp\\000344\\000344_dp_27\\labels\n",
      "\n",
      "image 1/1 E:\\yolo_study_depth\\Yolov8_dp\\000344\\000344_dp_28.jpg: 224x640 (no detections), 979.4ms\n",
      "Speed: 2.6ms preprocess, 979.4ms inference, 2.0ms postprocess per image at shape (1, 3, 224, 640)\n",
      "Results saved to \u001b[1mE:\\yolo_study_depth\\Yolov8_dp\\000344\\000344_dp_28\u001b[0m\n",
      "0 label saved to E:\\yolo_study_depth\\Yolov8_dp\\000344\\000344_dp_28\\labels\n",
      "\n",
      "image 1/1 E:\\yolo_study_depth\\Yolov8_dp\\000344\\000344_dp_29.jpg: 224x640 (no detections), 1104.6ms\n",
      "Speed: 10.1ms preprocess, 1104.6ms inference, 0.0ms postprocess per image at shape (1, 3, 224, 640)\n",
      "Results saved to \u001b[1mE:\\yolo_study_depth\\Yolov8_dp\\000344\\000344_dp_29\u001b[0m\n",
      "0 label saved to E:\\yolo_study_depth\\Yolov8_dp\\000344\\000344_dp_29\\labels\n",
      "\n",
      "image 1/1 E:\\yolo_study_depth\\Yolov8_dp\\000344\\000344_dp_30.jpg: 224x640 (no detections), 941.3ms\n",
      "Speed: 0.0ms preprocess, 941.3ms inference, 10.0ms postprocess per image at shape (1, 3, 224, 640)\n",
      "Results saved to \u001b[1mE:\\yolo_study_depth\\Yolov8_dp\\000344\\000344_dp_30\u001b[0m\n",
      "0 label saved to E:\\yolo_study_depth\\Yolov8_dp\\000344\\000344_dp_30\\labels\n",
      "\n",
      "image 1/1 E:\\yolo_study_depth\\Yolov8_dp\\000344\\000344_dp_31.jpg: 224x640 (no detections), 1056.4ms\n",
      "Speed: 0.0ms preprocess, 1056.4ms inference, 0.0ms postprocess per image at shape (1, 3, 224, 640)\n",
      "Results saved to \u001b[1mE:\\yolo_study_depth\\Yolov8_dp\\000344\\000344_dp_31\u001b[0m\n",
      "0 label saved to E:\\yolo_study_depth\\Yolov8_dp\\000344\\000344_dp_31\\labels\n",
      "\n",
      "image 1/1 E:\\yolo_study_depth\\Yolov8_dp\\000344\\000344_dp_32.jpg: 224x640 (no detections), 958.0ms\n",
      "Speed: 1.0ms preprocess, 958.0ms inference, 0.0ms postprocess per image at shape (1, 3, 224, 640)\n",
      "Results saved to \u001b[1mE:\\yolo_study_depth\\Yolov8_dp\\000344\\000344_dp_32\u001b[0m\n",
      "0 label saved to E:\\yolo_study_depth\\Yolov8_dp\\000344\\000344_dp_32\\labels\n",
      "\n",
      "image 1/1 E:\\yolo_study_depth\\Yolov8_dp\\000344\\000344_dp_33.jpg: 224x640 (no detections), 1049.1ms\n",
      "Speed: 10.0ms preprocess, 1049.1ms inference, 0.0ms postprocess per image at shape (1, 3, 224, 640)\n",
      "Results saved to \u001b[1mE:\\yolo_study_depth\\Yolov8_dp\\000344\\000344_dp_33\u001b[0m\n",
      "0 label saved to E:\\yolo_study_depth\\Yolov8_dp\\000344\\000344_dp_33\\labels\n",
      "\n",
      "image 1/1 E:\\yolo_study_depth\\Yolov8_dp\\000344\\000344_dp_34.jpg: 224x640 (no detections), 1331.6ms\n",
      "Speed: 5.0ms preprocess, 1331.6ms inference, 3.0ms postprocess per image at shape (1, 3, 224, 640)\n",
      "Results saved to \u001b[1mE:\\yolo_study_depth\\Yolov8_dp\\000344\\000344_dp_34\u001b[0m\n",
      "0 label saved to E:\\yolo_study_depth\\Yolov8_dp\\000344\\000344_dp_34\\labels\n",
      "\n",
      "image 1/1 E:\\yolo_study_depth\\Yolov8_dp\\000344\\000344_dp_35.jpg: 224x640 (no detections), 1007.7ms\n",
      "Speed: 1.0ms preprocess, 1007.7ms inference, 0.0ms postprocess per image at shape (1, 3, 224, 640)\n",
      "Results saved to \u001b[1mE:\\yolo_study_depth\\Yolov8_dp\\000344\\000344_dp_35\u001b[0m\n",
      "0 label saved to E:\\yolo_study_depth\\Yolov8_dp\\000344\\000344_dp_35\\labels\n",
      "\n",
      "image 1/1 E:\\yolo_study_depth\\Yolov8_dp\\000344\\000344_dp_36.jpg: 224x640 (no detections), 1074.9ms\n",
      "Speed: 3.4ms preprocess, 1074.9ms inference, 2.0ms postprocess per image at shape (1, 3, 224, 640)\n",
      "Results saved to \u001b[1mE:\\yolo_study_depth\\Yolov8_dp\\000344\\000344_dp_36\u001b[0m\n",
      "0 label saved to E:\\yolo_study_depth\\Yolov8_dp\\000344\\000344_dp_36\\labels\n",
      "\n",
      "image 1/1 E:\\yolo_study_depth\\Yolov8_dp\\000344\\000344_dp_37.jpg: 224x640 (no detections), 973.9ms\n",
      "Speed: 2.1ms preprocess, 973.9ms inference, 0.0ms postprocess per image at shape (1, 3, 224, 640)\n",
      "Results saved to \u001b[1mE:\\yolo_study_depth\\Yolov8_dp\\000344\\000344_dp_37\u001b[0m\n",
      "0 label saved to E:\\yolo_study_depth\\Yolov8_dp\\000344\\000344_dp_37\\labels\n",
      "\n",
      "image 1/1 E:\\yolo_study_depth\\Yolov8_dp\\000344\\000344_dp_38.jpg: 224x640 (no detections), 1051.9ms\n",
      "Speed: 0.0ms preprocess, 1051.9ms inference, 0.0ms postprocess per image at shape (1, 3, 224, 640)\n",
      "Results saved to \u001b[1mE:\\yolo_study_depth\\Yolov8_dp\\000344\\000344_dp_38\u001b[0m\n",
      "0 label saved to E:\\yolo_study_depth\\Yolov8_dp\\000344\\000344_dp_38\\labels\n",
      "\n",
      "image 1/1 E:\\yolo_study_depth\\Yolov8_dp\\000344\\000344_dp_39.jpg: 224x640 (no detections), 998.4ms\n",
      "Speed: 0.0ms preprocess, 998.4ms inference, 2.2ms postprocess per image at shape (1, 3, 224, 640)\n",
      "Results saved to \u001b[1mE:\\yolo_study_depth\\Yolov8_dp\\000344\\000344_dp_39\u001b[0m\n",
      "0 label saved to E:\\yolo_study_depth\\Yolov8_dp\\000344\\000344_dp_39\\labels\n",
      "\n",
      "image 1/1 E:\\yolo_study_depth\\Yolov8_dp\\000344\\000344_dp_40.jpg: 224x640 (no detections), 1211.1ms\n",
      "Speed: 2.1ms preprocess, 1211.1ms inference, 0.0ms postprocess per image at shape (1, 3, 224, 640)\n",
      "Results saved to \u001b[1mE:\\yolo_study_depth\\Yolov8_dp\\000344\\000344_dp_40\u001b[0m\n",
      "0 label saved to E:\\yolo_study_depth\\Yolov8_dp\\000344\\000344_dp_40\\labels\n",
      "\n",
      "image 1/1 E:\\yolo_study_depth\\Yolov8_dp\\000344\\000344_dp_41.jpg: 224x640 (no detections), 1062.6ms\n",
      "Speed: 0.0ms preprocess, 1062.6ms inference, 0.0ms postprocess per image at shape (1, 3, 224, 640)\n",
      "Results saved to \u001b[1mE:\\yolo_study_depth\\Yolov8_dp\\000344\\000344_dp_41\u001b[0m\n",
      "0 label saved to E:\\yolo_study_depth\\Yolov8_dp\\000344\\000344_dp_41\\labels\n",
      "\n",
      "image 1/1 E:\\yolo_study_depth\\Yolov8_dp\\000344\\000344_dp_42.jpg: 224x640 (no detections), 995.5ms\n",
      "Speed: 0.0ms preprocess, 995.5ms inference, 10.0ms postprocess per image at shape (1, 3, 224, 640)\n",
      "Results saved to \u001b[1mE:\\yolo_study_depth\\Yolov8_dp\\000344\\000344_dp_42\u001b[0m\n",
      "0 label saved to E:\\yolo_study_depth\\Yolov8_dp\\000344\\000344_dp_42\\labels\n",
      "\n",
      "image 1/1 E:\\yolo_study_depth\\Yolov8_dp\\000344\\000344_dp_43.jpg: 224x640 (no detections), 938.9ms\n",
      "Speed: 0.0ms preprocess, 938.9ms inference, 0.0ms postprocess per image at shape (1, 3, 224, 640)\n",
      "Results saved to \u001b[1mE:\\yolo_study_depth\\Yolov8_dp\\000344\\000344_dp_43\u001b[0m\n",
      "0 label saved to E:\\yolo_study_depth\\Yolov8_dp\\000344\\000344_dp_43\\labels\n",
      "\n",
      "image 1/1 E:\\yolo_study_depth\\Yolov8_dp\\000344\\000344_dp_44.jpg: 224x640 (no detections), 1224.2ms\n",
      "Speed: 0.0ms preprocess, 1224.2ms inference, 2.1ms postprocess per image at shape (1, 3, 224, 640)\n",
      "Results saved to \u001b[1mE:\\yolo_study_depth\\Yolov8_dp\\000344\\000344_dp_44\u001b[0m\n",
      "0 label saved to E:\\yolo_study_depth\\Yolov8_dp\\000344\\000344_dp_44\\labels\n",
      "\n",
      "image 1/1 E:\\yolo_study_depth\\Yolov8_dp\\000344\\000344_dp_45.jpg: 224x640 (no detections), 909.7ms\n",
      "Speed: 0.0ms preprocess, 909.7ms inference, 1.0ms postprocess per image at shape (1, 3, 224, 640)\n",
      "Results saved to \u001b[1mE:\\yolo_study_depth\\Yolov8_dp\\000344\\000344_dp_45\u001b[0m\n",
      "0 label saved to E:\\yolo_study_depth\\Yolov8_dp\\000344\\000344_dp_45\\labels\n",
      "\n",
      "image 1/1 E:\\yolo_study_depth\\Yolov8_dp\\000344\\000344_dp_46.jpg: 224x640 (no detections), 1117.3ms\n",
      "Speed: 10.0ms preprocess, 1117.3ms inference, 0.0ms postprocess per image at shape (1, 3, 224, 640)\n",
      "Results saved to \u001b[1mE:\\yolo_study_depth\\Yolov8_dp\\000344\\000344_dp_46\u001b[0m\n",
      "0 label saved to E:\\yolo_study_depth\\Yolov8_dp\\000344\\000344_dp_46\\labels\n",
      "\n",
      "image 1/1 E:\\yolo_study_depth\\Yolov8_dp\\000344\\000344_dp_47.jpg: 224x640 (no detections), 902.3ms\n",
      "Speed: 9.9ms preprocess, 902.3ms inference, 0.0ms postprocess per image at shape (1, 3, 224, 640)\n",
      "Results saved to \u001b[1mE:\\yolo_study_depth\\Yolov8_dp\\000344\\000344_dp_47\u001b[0m\n",
      "0 label saved to E:\\yolo_study_depth\\Yolov8_dp\\000344\\000344_dp_47\\labels\n",
      "\n",
      "image 1/1 E:\\yolo_study_depth\\Yolov8_dp\\000344\\000344_dp_48.jpg: 224x640 (no detections), 1060.2ms\n",
      "Speed: 0.0ms preprocess, 1060.2ms inference, 0.0ms postprocess per image at shape (1, 3, 224, 640)\n",
      "Results saved to \u001b[1mE:\\yolo_study_depth\\Yolov8_dp\\000344\\000344_dp_48\u001b[0m\n",
      "0 label saved to E:\\yolo_study_depth\\Yolov8_dp\\000344\\000344_dp_48\\labels\n",
      "\n",
      "image 1/1 E:\\yolo_study_depth\\Yolov8_dp\\000344\\000344_dp_49.jpg: 224x640 (no detections), 977.3ms\n",
      "Speed: 0.0ms preprocess, 977.3ms inference, 10.0ms postprocess per image at shape (1, 3, 224, 640)\n",
      "Results saved to \u001b[1mE:\\yolo_study_depth\\Yolov8_dp\\000344\\000344_dp_49\u001b[0m\n",
      "0 label saved to E:\\yolo_study_depth\\Yolov8_dp\\000344\\000344_dp_49\\labels\n",
      "\n",
      "image 1/1 E:\\yolo_study_depth\\Yolov8_dp\\000344\\000344_dp_50.jpg: 224x640 (no detections), 1086.4ms\n",
      "Speed: 10.0ms preprocess, 1086.4ms inference, 10.0ms postprocess per image at shape (1, 3, 224, 640)\n",
      "Results saved to \u001b[1mE:\\yolo_study_depth\\Yolov8_dp\\000344\\000344_dp_50\u001b[0m\n",
      "0 label saved to E:\\yolo_study_depth\\Yolov8_dp\\000344\\000344_dp_50\\labels\n",
      "\n",
      "image 1/1 E:\\yolo_study_depth\\Yolov8_dp\\000344\\000344_dp_51.jpg: 224x640 (no detections), 886.1ms\n",
      "Speed: 0.0ms preprocess, 886.1ms inference, 10.0ms postprocess per image at shape (1, 3, 224, 640)\n",
      "Results saved to \u001b[1mE:\\yolo_study_depth\\Yolov8_dp\\000344\\000344_dp_51\u001b[0m\n",
      "0 label saved to E:\\yolo_study_depth\\Yolov8_dp\\000344\\000344_dp_51\\labels\n",
      "\n",
      "image 1/1 E:\\yolo_study_depth\\Yolov8_dp\\000344\\000344_dp_52.jpg: 224x640 (no detections), 1096.1ms\n",
      "Speed: 0.0ms preprocess, 1096.1ms inference, 0.0ms postprocess per image at shape (1, 3, 224, 640)\n",
      "Results saved to \u001b[1mE:\\yolo_study_depth\\Yolov8_dp\\000344\\000344_dp_52\u001b[0m\n",
      "0 label saved to E:\\yolo_study_depth\\Yolov8_dp\\000344\\000344_dp_52\\labels\n",
      "\n",
      "image 1/1 E:\\yolo_study_depth\\Yolov8_dp\\000344\\000344_dp_53.jpg: 224x640 (no detections), 886.0ms\n",
      "Speed: 2.0ms preprocess, 886.0ms inference, 0.0ms postprocess per image at shape (1, 3, 224, 640)\n",
      "Results saved to \u001b[1mE:\\yolo_study_depth\\Yolov8_dp\\000344\\000344_dp_53\u001b[0m\n",
      "0 label saved to E:\\yolo_study_depth\\Yolov8_dp\\000344\\000344_dp_53\\labels\n",
      "\n",
      "image 1/1 E:\\yolo_study_depth\\Yolov8_dp\\000344\\000344_dp_54.jpg: 224x640 (no detections), 1076.5ms\n",
      "Speed: 0.0ms preprocess, 1076.5ms inference, 10.0ms postprocess per image at shape (1, 3, 224, 640)\n",
      "Results saved to \u001b[1mE:\\yolo_study_depth\\Yolov8_dp\\000344\\000344_dp_54\u001b[0m\n",
      "0 label saved to E:\\yolo_study_depth\\Yolov8_dp\\000344\\000344_dp_54\\labels\n",
      "\n",
      "image 1/1 E:\\yolo_study_depth\\Yolov8_dp\\000344\\000344_dp_55.jpg: 224x640 (no detections), 935.7ms\n",
      "Speed: 0.0ms preprocess, 935.7ms inference, 0.0ms postprocess per image at shape (1, 3, 224, 640)\n",
      "Results saved to \u001b[1mE:\\yolo_study_depth\\Yolov8_dp\\000344\\000344_dp_55\u001b[0m\n",
      "0 label saved to E:\\yolo_study_depth\\Yolov8_dp\\000344\\000344_dp_55\\labels\n",
      "\n",
      "image 1/1 E:\\yolo_study_depth\\Yolov8_dp\\000344\\000344_dp_56.jpg: 224x640 (no detections), 995.7ms\n",
      "Speed: 0.0ms preprocess, 995.7ms inference, 0.0ms postprocess per image at shape (1, 3, 224, 640)\n",
      "Results saved to \u001b[1mE:\\yolo_study_depth\\Yolov8_dp\\000344\\000344_dp_56\u001b[0m\n",
      "0 label saved to E:\\yolo_study_depth\\Yolov8_dp\\000344\\000344_dp_56\\labels\n",
      "\n",
      "image 1/1 E:\\yolo_study_depth\\Yolov8_dp\\000344\\000344_dp_57.jpg: 224x640 (no detections), 965.4ms\n",
      "Speed: 0.0ms preprocess, 965.4ms inference, 10.0ms postprocess per image at shape (1, 3, 224, 640)\n",
      "Results saved to \u001b[1mE:\\yolo_study_depth\\Yolov8_dp\\000344\\000344_dp_57\u001b[0m\n",
      "0 label saved to E:\\yolo_study_depth\\Yolov8_dp\\000344\\000344_dp_57\\labels\n",
      "\n",
      "image 1/1 E:\\yolo_study_depth\\Yolov8_dp\\000344\\000344_dp_58.jpg: 224x640 (no detections), 1212.9ms\n",
      "Speed: 2.0ms preprocess, 1212.9ms inference, 2.0ms postprocess per image at shape (1, 3, 224, 640)\n",
      "Results saved to \u001b[1mE:\\yolo_study_depth\\Yolov8_dp\\000344\\000344_dp_58\u001b[0m\n",
      "0 label saved to E:\\yolo_study_depth\\Yolov8_dp\\000344\\000344_dp_58\\labels\n",
      "\n",
      "image 1/1 E:\\yolo_study_depth\\Yolov8_dp\\000344\\000344_dp_59.jpg: 224x640 (no detections), 1117.8ms\n",
      "Speed: 0.0ms preprocess, 1117.8ms inference, 1.4ms postprocess per image at shape (1, 3, 224, 640)\n",
      "Results saved to \u001b[1mE:\\yolo_study_depth\\Yolov8_dp\\000344\\000344_dp_59\u001b[0m\n",
      "0 label saved to E:\\yolo_study_depth\\Yolov8_dp\\000344\\000344_dp_59\\labels\n",
      "\n",
      "image 1/1 E:\\yolo_study_depth\\Yolov8_dp\\000344\\000344_dp_60.jpg: 224x640 (no detections), 1013.3ms\n",
      "Speed: 0.0ms preprocess, 1013.3ms inference, 0.0ms postprocess per image at shape (1, 3, 224, 640)\n",
      "Results saved to \u001b[1mE:\\yolo_study_depth\\Yolov8_dp\\000344\\000344_dp_60\u001b[0m\n",
      "0 label saved to E:\\yolo_study_depth\\Yolov8_dp\\000344\\000344_dp_60\\labels\n",
      "\n",
      "image 1/1 E:\\yolo_study_depth\\Yolov8_dp\\000344\\000344_dp_61.jpg: 224x640 (no detections), 1012.2ms\n",
      "Speed: 10.0ms preprocess, 1012.2ms inference, 2.0ms postprocess per image at shape (1, 3, 224, 640)\n",
      "Results saved to \u001b[1mE:\\yolo_study_depth\\Yolov8_dp\\000344\\000344_dp_61\u001b[0m\n",
      "0 label saved to E:\\yolo_study_depth\\Yolov8_dp\\000344\\000344_dp_61\\labels\n",
      "\n",
      "image 1/1 E:\\yolo_study_depth\\Yolov8_dp\\000344\\000344_dp_62.jpg: 224x640 (no detections), 1000.6ms\n",
      "Speed: 2.0ms preprocess, 1000.6ms inference, 0.0ms postprocess per image at shape (1, 3, 224, 640)\n",
      "Results saved to \u001b[1mE:\\yolo_study_depth\\Yolov8_dp\\000344\\000344_dp_62\u001b[0m\n",
      "0 label saved to E:\\yolo_study_depth\\Yolov8_dp\\000344\\000344_dp_62\\labels\n",
      "\n",
      "image 1/1 E:\\yolo_study_depth\\Yolov8_dp\\000344\\000344_dp_63.jpg: 224x640 (no detections), 941.3ms\n",
      "Speed: 0.0ms preprocess, 941.3ms inference, 0.0ms postprocess per image at shape (1, 3, 224, 640)\n",
      "Results saved to \u001b[1mE:\\yolo_study_depth\\Yolov8_dp\\000344\\000344_dp_63\u001b[0m\n",
      "0 label saved to E:\\yolo_study_depth\\Yolov8_dp\\000344\\000344_dp_63\\labels\n",
      "\n",
      "image 1/1 E:\\yolo_study_depth\\Yolov8_dp\\000344\\000344_dp_64.jpg: 224x640 (no detections), 1002.8ms\n",
      "Speed: 0.0ms preprocess, 1002.8ms inference, 0.0ms postprocess per image at shape (1, 3, 224, 640)\n",
      "Results saved to \u001b[1mE:\\yolo_study_depth\\Yolov8_dp\\000344\\000344_dp_64\u001b[0m\n",
      "0 label saved to E:\\yolo_study_depth\\Yolov8_dp\\000344\\000344_dp_64\\labels\n",
      "\n",
      "image 1/1 E:\\yolo_study_depth\\Yolov8_dp\\000344\\000344_dp_65.jpg: 224x640 (no detections), 971.3ms\n",
      "Speed: 0.0ms preprocess, 971.3ms inference, 0.0ms postprocess per image at shape (1, 3, 224, 640)\n",
      "Results saved to \u001b[1mE:\\yolo_study_depth\\Yolov8_dp\\000344\\000344_dp_65\u001b[0m\n",
      "0 label saved to E:\\yolo_study_depth\\Yolov8_dp\\000344\\000344_dp_65\\labels\n",
      "\n",
      "image 1/1 E:\\yolo_study_depth\\Yolov8_dp\\000344\\000344_dp_66.jpg: 224x640 (no detections), 1200.5ms\n",
      "Speed: 0.0ms preprocess, 1200.5ms inference, 0.0ms postprocess per image at shape (1, 3, 224, 640)\n",
      "Results saved to \u001b[1mE:\\yolo_study_depth\\Yolov8_dp\\000344\\000344_dp_66\u001b[0m\n",
      "0 label saved to E:\\yolo_study_depth\\Yolov8_dp\\000344\\000344_dp_66\\labels\n",
      "\n",
      "image 1/1 E:\\yolo_study_depth\\Yolov8_dp\\000344\\000344_dp_67.jpg: 224x640 (no detections), 1035.5ms\n",
      "Speed: 0.0ms preprocess, 1035.5ms inference, 0.0ms postprocess per image at shape (1, 3, 224, 640)\n",
      "Results saved to \u001b[1mE:\\yolo_study_depth\\Yolov8_dp\\000344\\000344_dp_67\u001b[0m\n",
      "0 label saved to E:\\yolo_study_depth\\Yolov8_dp\\000344\\000344_dp_67\\labels\n",
      "\n",
      "image 1/1 E:\\yolo_study_depth\\Yolov8_dp\\000344\\000344_dp_68.jpg: 224x640 (no detections), 1053.8ms\n",
      "Speed: 0.0ms preprocess, 1053.8ms inference, 3.0ms postprocess per image at shape (1, 3, 224, 640)\n",
      "Results saved to \u001b[1mE:\\yolo_study_depth\\Yolov8_dp\\000344\\000344_dp_68\u001b[0m\n",
      "0 label saved to E:\\yolo_study_depth\\Yolov8_dp\\000344\\000344_dp_68\\labels\n",
      "\n",
      "image 1/1 E:\\yolo_study_depth\\Yolov8_dp\\000344\\000344_dp_69.jpg: 224x640 (no detections), 1024.4ms\n",
      "Speed: 10.0ms preprocess, 1024.4ms inference, 0.0ms postprocess per image at shape (1, 3, 224, 640)\n",
      "Results saved to \u001b[1mE:\\yolo_study_depth\\Yolov8_dp\\000344\\000344_dp_69\u001b[0m\n",
      "0 label saved to E:\\yolo_study_depth\\Yolov8_dp\\000344\\000344_dp_69\\labels\n",
      "\n",
      "image 1/1 E:\\yolo_study_depth\\Yolov8_dp\\000344\\000344_dp_70.jpg: 224x640 (no detections), 1138.5ms\n",
      "Speed: 0.0ms preprocess, 1138.5ms inference, 2.0ms postprocess per image at shape (1, 3, 224, 640)\n",
      "Results saved to \u001b[1mE:\\yolo_study_depth\\Yolov8_dp\\000344\\000344_dp_70\u001b[0m\n",
      "0 label saved to E:\\yolo_study_depth\\Yolov8_dp\\000344\\000344_dp_70\\labels\n",
      "\n",
      "image 1/1 E:\\yolo_study_depth\\Yolov8_dp\\000344\\000344_dp_71.jpg: 224x640 (no detections), 1333.3ms\n",
      "Speed: 1.9ms preprocess, 1333.3ms inference, 0.0ms postprocess per image at shape (1, 3, 224, 640)\n",
      "Results saved to \u001b[1mE:\\yolo_study_depth\\Yolov8_dp\\000344\\000344_dp_71\u001b[0m\n",
      "0 label saved to E:\\yolo_study_depth\\Yolov8_dp\\000344\\000344_dp_71\\labels\n",
      "\n",
      "image 1/1 E:\\yolo_study_depth\\Yolov8_dp\\000344\\000344_dp_72.jpg: 224x640 (no detections), 1510.6ms\n",
      "Speed: 7.2ms preprocess, 1510.6ms inference, 3.2ms postprocess per image at shape (1, 3, 224, 640)\n",
      "Results saved to \u001b[1mE:\\yolo_study_depth\\Yolov8_dp\\000344\\000344_dp_72\u001b[0m\n",
      "0 label saved to E:\\yolo_study_depth\\Yolov8_dp\\000344\\000344_dp_72\\labels\n",
      "\n",
      "image 1/1 E:\\yolo_study_depth\\Yolov8_dp\\000344\\000344_dp_73.jpg: 224x640 (no detections), 1188.3ms\n",
      "Speed: 2.0ms preprocess, 1188.3ms inference, 0.0ms postprocess per image at shape (1, 3, 224, 640)\n",
      "Results saved to \u001b[1mE:\\yolo_study_depth\\Yolov8_dp\\000344\\000344_dp_73\u001b[0m\n",
      "0 label saved to E:\\yolo_study_depth\\Yolov8_dp\\000344\\000344_dp_73\\labels\n",
      "\n",
      "image 1/1 E:\\yolo_study_depth\\Yolov8_dp\\000344\\000344_dp_74.jpg: 224x640 (no detections), 1054.4ms\n",
      "Speed: 3.0ms preprocess, 1054.4ms inference, 0.0ms postprocess per image at shape (1, 3, 224, 640)\n",
      "Results saved to \u001b[1mE:\\yolo_study_depth\\Yolov8_dp\\000344\\000344_dp_74\u001b[0m\n",
      "0 label saved to E:\\yolo_study_depth\\Yolov8_dp\\000344\\000344_dp_74\\labels\n",
      "\n",
      "image 1/1 E:\\yolo_study_depth\\Yolov8_dp\\000344\\000344_dp_75.jpg: 224x640 (no detections), 938.9ms\n",
      "Speed: 1.1ms preprocess, 938.9ms inference, 1.7ms postprocess per image at shape (1, 3, 224, 640)\n",
      "Results saved to \u001b[1mE:\\yolo_study_depth\\Yolov8_dp\\000344\\000344_dp_75\u001b[0m\n",
      "0 label saved to E:\\yolo_study_depth\\Yolov8_dp\\000344\\000344_dp_75\\labels\n",
      "total detected dp test= 58\n"
     ]
    }
   ],
   "source": [
    "dp_probability = initial_prob\n",
    "step = 0\n",
    "total = 0\n",
    "for x in range(number_of_steps + 1):\n",
    "    dp_coordinates, number_of_dp, persistent_dead_pixels = dead_pixel_generation(dp_probability, persistent_dead_pixels)\n",
    "    # Further image processing and analysis\n",
    "    img_file_dir, new_img = image_with_dp(image, dp_coordinates, step, saving_directory)\n",
    "    projectname = os.path.splitext(new_img)[0]\n",
    "    results_dp_filtered = model(img_file_dir, save=True, project=saving_directory, name=projectname, save_txt=True, save_conf=True)\n",
    "    results_in_list = results_to_list(new_img, dp_probability, results_dp_filtered, False)\n",
    "    total += len(results_in_list)\n",
    "    full_dp_list = fill_missing_classes(original_image_class_list, results_in_list, new_img, dp_probability)\n",
    "    saving_summary_excel(new_img, image_name, excel_file, results_dp_filtered)\n",
    "    saving_excel(excel_file, \"Dp_study\", full_dp_list)\n",
    "    dp_probability += step_value\n",
    "    step += 1\n",
    "\n",
    "print(\"total detected dp test=\", total)\n",
    "    "
   ]
  },
  {
   "cell_type": "markdown",
   "id": "3b9135e4",
   "metadata": {},
   "source": [
    "## Studying the blur effect on the detection"
   ]
  },
  {
   "cell_type": "markdown",
   "id": "d74df552",
   "metadata": {},
   "source": [
    "OpenCV provides four main types of blurring techniques:\n",
    "    1. Averaging\n",
    "    2. Gaussian Blurring\n",
    "    3. Median Blurring\n",
    "    4. Bilateral Filtering\n",
    "    \n",
    " Gaussian Blurring is the closest to the real blur that occurs due to camera sensor degradation\n"
   ]
  },
  {
   "cell_type": "code",
   "execution_count": null,
   "id": "40df6509",
   "metadata": {},
   "outputs": [],
   "source": [
    "original_image=cv2.imread(image_path)"
   ]
  },
  {
   "cell_type": "markdown",
   "id": "e5312bc1",
   "metadata": {},
   "source": [
    "### Functions for blur study\n",
    "Note: After applying kernals and sigma arbitrary. The effect of blur was not notaible for some sigma and kernals (the results are available in deadsecondtry note), So this rule had been applied \n",
    "Kernel_size=2(3*sigma)+1\n",
    "So for each sigam there are one kernal"
   ]
  },
  {
   "cell_type": "code",
   "execution_count": null,
   "id": "1890b9e9",
   "metadata": {},
   "outputs": [],
   "source": [
    "def results_to_list_blur(blured_image_name,main_image,kernal_size, sigma_value,prediction_blured_results,original):\n",
    "    class_blured_info_list=[]\n",
    "    for result in prediction_blured_results:\n",
    "        classes=result.boxes.cls\n",
    "        confedance=result.boxes.conf\n",
    "        box_coordinats=result.boxes.xyxy\n",
    "        box_coordinats_xywh=result.boxes.xywh\n",
    "    for i in range(len(classes)):\n",
    "        box_center_coordinate_x,box_center_coordinate_y=box_center_cal(box_coordinats[i])\n",
    "        object_depth=get_distances(depth_map_array,box_coordinats[i],method='median')\n",
    "        if original:\n",
    "            class_blured_info_list.append([str(blured_image_name),str(main_image),kernal_size,int(sigma_value),int(classes.data[i]),float(confedance[i]),tuple([round(float(box_center_coordinate_x),0),round(float(box_center_coordinate_y),0)]),box_coordinats_xywh[i],object_depth,i])\n",
    "        else:\n",
    "            class_blured_info_list.append([str(blured_image_name),str(main_image),kernal_size,int(sigma_value),int(classes.data[i]),float(confedance[i]),tuple([round(float(box_center_coordinate_x),0),round(float(box_center_coordinate_y),0)]),box_coordinats_xywh[i]])\n",
    "    return class_blured_info_list"
   ]
  },
  {
   "cell_type": "code",
   "execution_count": null,
   "id": "8551419c",
   "metadata": {},
   "outputs": [],
   "source": [
    "def fill_missing_classes_blured(original_list, blurred_list, img, kernel_size, sigma_value,main_image):\n",
    "    modified_blurred_list = []\n",
    "    used_blurred_indices = set()  # Track blurred items that have been matched\n",
    "\n",
    "    # Define maximum allowed differences for position and size\n",
    "    max_position_difference = 35\n",
    "    max_size_difference = 45\n",
    "\n",
    "    # Iterate through each original item\n",
    "    for original_index, original_item in enumerate(original_list):\n",
    "        closest_match = None\n",
    "        closest_match_index = None\n",
    "        smallest_difference = float('inf')\n",
    "\n",
    "        # Iterate through each blurred item to find the closest match\n",
    "        for blurred_index, blurred_item in enumerate(blurred_list):\n",
    "            if blurred_index in used_blurred_indices:\n",
    "                continue  # Skip this blurred item if it has been used\n",
    "\n",
    "            if original_item[4] == blurred_item[4]:  # Check if classes match\n",
    "                # Calculate the total difference based on position and size\n",
    "                position_difference = abs(original_item[6][0] - blurred_item[6][0]) + abs(original_item[6][1] - blurred_item[6][1])\n",
    "                size_difference = abs(original_item[7][2] - blurred_item[7][2]) + abs(original_item[7][3] - blurred_item[7][3])\n",
    "\n",
    "                # Check if the differences are within the maximum allowed\n",
    "                if position_difference <= max_position_difference and size_difference <= max_size_difference:\n",
    "                    total_difference = position_difference + size_difference\n",
    "                    \n",
    "                    # If this blurred item is the closest match so far, record it\n",
    "                    if total_difference < smallest_difference:\n",
    "                        closest_match = blurred_item\n",
    "                        closest_match_index = blurred_index\n",
    "                        smallest_difference = total_difference\n",
    "        \n",
    "        # If a closest match within the thresholds was found, add to the modified list\n",
    "        if closest_match is not None:\n",
    "            used_blurred_indices.add(closest_match_index)  # Mark this blurred item as used\n",
    "            original_depth = original_item[8]\n",
    "            modified_item = closest_match[:]  # Create a copy to avoid modifying the original\n",
    "            modified_item.insert(8, original_depth)  # Insert original depth\n",
    "            modified_item.insert(9, original_index)  # Insert original index\n",
    "            modified_blurred_list.append(modified_item)\n",
    "        else:\n",
    "            # No suitable match found within the bounds, add a placeholder\n",
    "            modified_blurred_list.append([img,main_image, kernel_size, sigma_value, \"No_detected\", 0, (0, 0), 0, 0, original_index])\n",
    "\n",
    "    return modified_blurred_list\n"
   ]
  },
  {
   "cell_type": "markdown",
   "id": "65310974",
   "metadata": {},
   "source": [
    "Original image analysis before starting with applying the filter"
   ]
  },
  {
   "cell_type": "code",
   "execution_count": null,
   "id": "733b5201",
   "metadata": {
    "scrolled": true
   },
   "outputs": [],
   "source": [
    "before_blur_results=results_to_list_blur(image_name,image_name,(0,0),0,results_original,True)"
   ]
  },
  {
   "cell_type": "code",
   "execution_count": null,
   "id": "8f64a2ef",
   "metadata": {},
   "outputs": [],
   "source": [
    "saving_excel(excel_file,\"Blur_study\",before_blur_results)"
   ]
  },
  {
   "cell_type": "code",
   "execution_count": null,
   "id": "5ebbb0c6",
   "metadata": {
    "scrolled": true
   },
   "outputs": [],
   "source": [
    "initial_sigma=0\n",
    "final_sigma=15\n",
    "step_sigma=1\n",
    "\n",
    "for sigma in range(initial_sigma,final_sigma+1,step_sigma):\n",
    "    kernal_value=2*(3*sigma)+1\n",
    "    kernal=(kernal_value,kernal_value)\n",
    "    #print(kernal)\n",
    "    new_bluredimg_name=f\"blured_{kernal}_{sigma}.jpg\"\n",
    "    new_bluredimg=os.path.join(saving_directory,new_bluredimg_name)\n",
    "    #print(new_bluredimg)\n",
    "    projectname=os.path.splitext(new_bluredimg_name)[0]\n",
    "    blured_image=cv2.GaussianBlur(original_image,kernal,sigma)\n",
    "    cv2.imwrite(new_bluredimg,blured_image)\n",
    "    results_blured = model(new_bluredimg,save=True, project=saving_directory, name=projectname,save_txt=True, save_conf=True)\n",
    "    results_list_blur=results_to_list_blur(new_bluredimg_name,image_name,kernal,sigma,results_blured,False)\n",
    "\n",
    "    full_blured_list=fill_missing_classes_blured(before_blur_results,results_list_blur,new_bluredimg_name,kernal,sigma,image_name)\n",
    "\n",
    "    saving_excel(excel_file,\"Blur_study\",full_blured_list)\n",
    "    saving_summary_excel(new_bluredimg_name,image_name,excel_file,results_blured)\n",
    "print(\"Done blur testing\")"
   ]
  },
  {
   "cell_type": "markdown",
   "id": "e7f1fc70",
   "metadata": {},
   "source": [
    "## Poisson noise study"
   ]
  },
  {
   "attachments": {
    "image.png": {
     "image/png": "[encoded data removed]"
    }
   },
   "cell_type": "markdown",
   "id": "895b1263",
   "metadata": {},
   "source": [
    "The number of photons hitting a pixel during the exposure time fluctuates statistically. According to the laws of quantum mechanics, the probability is Poisson distributed. This noise, often referred to as shot noise is given by the basic laws of physics.\n",
    "![image.png](attachment:image.png)\n",
    "\n",
    "b: is for adjusting the brightness\n",
    "<br>K: The image sensor gain that converts electrons into digit values is represented by this parameter, which is exclusively dependent on the sensor performance. With the aim of analysing realistic scenarios, different commercial vision sensor data-sheets have been collected, where K goes from 0.01 to 0.1 DN/e−. Furthermore, in order to study those more complex situations, higher values for K have been considered.\n",
    "<br> The conversion from analog information to digital data converts the voltage signal into digital numbers (DN) which is the overall gain K factor (K = χξ)\n",
    "<br> Furthermore, this degradation is more perceptible for the lowest values of the bright scale low b\n",
    "<br> The normal DN/e- for our camera is "
   ]
  },
  {
   "cell_type": "code",
   "execution_count": null,
   "id": "656e71a1",
   "metadata": {},
   "outputs": [],
   "source": [
    "def add_poisson_noise(image, b, K):\n",
    "    image_float = image.astype(np.float32)\n",
    "    # Adjust the image by the brightness scale factor b\n",
    "    bright_scaled_image = b * image_float\n",
    "    noisy_image = K * np.random.poisson(bright_scaled_image / K)\n",
    "    # Clip the values to the range [0, K] and return to original data type\n",
    "    noisy_image = np.clip(noisy_image, 0, 255).astype(image.dtype)\n",
    "    return noisy_image"
   ]
  },
  {
   "cell_type": "markdown",
   "id": "2e07e448",
   "metadata": {},
   "source": [
    "### Necessary functions"
   ]
  },
  {
   "cell_type": "code",
   "execution_count": null,
   "id": "cee45621",
   "metadata": {},
   "outputs": [],
   "source": [
    "def dark_image(image, brightness_factor):\n",
    "    # Ensure the brightness factor is within a valid range\n",
    "    brightness_factor = max(0, min(1, brightness_factor))\n",
    "    \n",
    "    # Reduce the brightness of the image\n",
    "    darker_image = (image.astype(np.float32) * brightness_factor)\n",
    "    \n",
    "    return darker_image"
   ]
  },
  {
   "cell_type": "code",
   "execution_count": null,
   "id": "b1811186",
   "metadata": {},
   "outputs": [],
   "source": [
    "def results_to_list_pnoised(pnoised_image_name,main_image,k_value,b_value,prediction_pnoised_results,original):\n",
    "    class_pnoised_info_list=[]\n",
    "    for result in prediction_pnoised_results:\n",
    "        classes=result.boxes.cls\n",
    "        confedance=result.boxes.conf\n",
    "        box_coordinats=result.boxes.xyxy\n",
    "    for i in range(len(classes)):\n",
    "        box_center_coordinate_x,box_center_coordinate_y=box_center_cal(box_coordinats[i])\n",
    "        object_depth=get_distances(depth_map_array,box_coordinats[i],method='median')\n",
    "        if original:\n",
    "            class_pnoised_info_list.append([str(pnoised_image_name),str(main_image),int(k_value),b_value,int(classes.data[i]),float(confedance[i]),tuple([round(float(box_center_coordinate_x),0),round(float(box_center_coordinate_y),0)]),box_coordinats[i],object_depth,i])\n",
    "        else:\n",
    "            class_pnoised_info_list.append([str(pnoised_image_name),str(main_image),int(k_value),b_value,int(classes.data[i]),float(confedance[i]),tuple([round(float(box_center_coordinate_x),0),round(float(box_center_coordinate_y),0)]),box_coordinats[i]])\n",
    "    return class_pnoised_info_list"
   ]
  },
  {
   "cell_type": "code",
   "execution_count": null,
   "id": "13b921d7",
   "metadata": {},
   "outputs": [],
   "source": [
    "def fill_missing_classes_pnoised(original_list, pnoised_list,img,k_value,b_value,main_image):\n",
    "    modified_pnosied_list = []\n",
    "    used_pnosied_indices = set()  # Track items that have been matched\n",
    "\n",
    "    # Define maximum allowed differences for position and size\n",
    "    max_position_difference = 35\n",
    "    max_size_difference = 35\n",
    "\n",
    "    # Iterate through each original item\n",
    "    for original_index, original_item in enumerate(original_list):\n",
    "        closest_match = None\n",
    "        closest_match_index = None\n",
    "        smallest_difference = float('inf')\n",
    "\n",
    "        # Iterate through each item to find the closest match\n",
    "        for pnoised_index, pnoised_item in enumerate(pnoised_list):\n",
    "            if pnoised_index in used_pnosied_indices:\n",
    "                continue  # Skip this item if it has been used\n",
    "\n",
    "            if original_item[4] == pnoised_item[4]:  # Check if classes match\n",
    "                # Calculate the total difference based on position and size\n",
    "                position_difference = abs(original_item[6][0] - pnoised_item[6][0]) + abs(original_item[6][1] - pnoised_item[6][1])\n",
    "                size_difference = abs(original_item[7][2] - pnoised_item[7][2]) + abs(original_item[7][3] - pnoised_item[7][3])\n",
    "\n",
    "                # Check if the differences are within the maximum allowed\n",
    "                if position_difference <= max_position_difference and size_difference <= max_size_difference:\n",
    "                    total_difference = position_difference + size_difference\n",
    "                    \n",
    "                    # If this item is the closest match so far, record it\n",
    "                    if total_difference < smallest_difference:\n",
    "                        closest_match = pnoised_item\n",
    "                        closest_match_index = pnoised_index\n",
    "                        smallest_difference = total_difference\n",
    "        \n",
    "        # If a closest match within the thresholds was found, add to the modified list\n",
    "        if closest_match is not None:\n",
    "            used_pnosied_indices.add(closest_match_index)  # Mark this item as used\n",
    "            original_depth = original_item[8]\n",
    "            modified_item = closest_match[:]  # Create a copy to avoid modifying the original\n",
    "            modified_item.insert(8, original_depth)  # Insert original depth\n",
    "            modified_item.insert(9, original_index)  # Insert original index\n",
    "            modified_pnosied_list.append(modified_item)      \n",
    "        else:\n",
    "            # No suitable match found within the bounds, add a placeholder\n",
    "            modified_pnosied_list.append([img,main_image,k_value,b_value,\"No_detected\", 0, (0, 0),0,0,original_list.index(original_item)])\n",
    "\n",
    "    return modified_pnosied_list\n"
   ]
  },
  {
   "cell_type": "markdown",
   "id": "1651208c",
   "metadata": {},
   "source": [
    "**Original image analysis before starting with applying the noise**"
   ]
  },
  {
   "cell_type": "code",
   "execution_count": null,
   "id": "d991ef0b",
   "metadata": {
    "scrolled": true
   },
   "outputs": [],
   "source": [
    "before_pnoise_results=results_to_list_pnoised(image_name,image_name,0,1,results_original,True)"
   ]
  },
  {
   "cell_type": "code",
   "execution_count": null,
   "id": "1dd6d5f0",
   "metadata": {},
   "outputs": [],
   "source": [
    "saving_excel(excel_file,\"Pnoise_study_normal\",before_pnoise_results)"
   ]
  },
  {
   "cell_type": "markdown",
   "id": "45dfc45a",
   "metadata": {},
   "source": [
    "**Adding poisson noise to the original image without changing the brigtness**"
   ]
  },
  {
   "cell_type": "code",
   "execution_count": null,
   "id": "9e11eba1",
   "metadata": {
    "scrolled": false
   },
   "outputs": [],
   "source": [
    "initial_k = 2\n",
    "final_k = 74\n",
    "step_k = 8\n",
    "B = 1\n",
    "\n",
    "current_image = original_image.copy()  # Make a copy to keep the original image unchanged\n",
    "\n",
    "for k in range(initial_k, final_k + 8, step_k):\n",
    "    new_pnoisedimg_name = f\"pnoised_{k}_{B}.jpg\"\n",
    "    new_pnoisedimg = os.path.join(saving_directory, new_pnoisedimg_name)\n",
    "    projectname = os.path.splitext(new_pnoisedimg_name)[0]\n",
    "    \n",
    "    # Apply Poisson noise to the current image state\n",
    "    pnoised_image = add_poisson_noise(current_image, b=B, K=step_k)\n",
    "    \n",
    "    # Save the noised image for this iteration\n",
    "    cv2.imwrite(new_pnoisedimg, pnoised_image)\n",
    "    \n",
    "    # Update the current image with the just generated noised image for the next iteration\n",
    "    current_image = pnoised_image.copy()\n",
    "    \n",
    "    results_pnoised = model(new_pnoisedimg, save=True, project=saving_directory, name=projectname, save_txt=True, save_conf=True)\n",
    "    results_list_pnoise = results_to_list_pnoised(new_pnoisedimg_name, image_name, k, B, results_pnoised, False)\n",
    "\n",
    "    full_pnoised_list = fill_missing_classes_pnoised(before_pnoise_results, results_list_pnoise, new_pnoisedimg_name, k, B, image_name)\n",
    "\n",
    "    saving_excel(excel_file, \"Pnoise_study_normal\", full_pnoised_list)\n",
    "    saving_summary_excel(new_pnoisedimg_name, image_name, excel_file, results_pnoised)\n",
    "\n",
    "print(\"Done Poisson noise test\")"
   ]
  },
  {
   "cell_type": "markdown",
   "id": "f70f8403",
   "metadata": {},
   "source": [
    "# Gaussian noise study"
   ]
  },
  {
   "cell_type": "markdown",
   "id": "cf4592df",
   "metadata": {},
   "source": [
    "In image processing and computer vision, noise refers to random variations of brightness or color information in images. It's an unavoidable aspect of digital imaging, often introduced during image acquisition (e.g., sensor noise in low light) or transmission. One common model for representing noise is Gaussian noise, also known as normal noise, due to its adherence to the Gaussian (normal) distribution. <br>\n",
    "\n",
    "**Mean (μ)**: A non-zero mean can make the noise either predominantly positive or negative.\n",
    "<br>**Standard Deviation (σ)**: Controls the amplitude of the noise. Low σ values produce subtler noise, maintaining the image's integrity, while high σ values can significantly alter the image's appearance, potentially obscuring details"
   ]
  },
  {
   "cell_type": "code",
   "execution_count": null,
   "id": "04237a19",
   "metadata": {},
   "outputs": [],
   "source": [
    "def add_gaussian_noise(image, brightness_factor, mean, sigma):\n",
    "    \"\"\"\n",
    "    Modifies an image by reducing its brightness and adding Gaussian noise.\n",
    "    \n",
    "    Parameters:\n",
    "        image: Input image.\n",
    "        brightness_factor: Factor by which to reduce the brightness (0 < factor < 1).\n",
    "        mean: Mean of the Gaussian noise.\n",
    "        sigma: Standard deviation of the Gaussian noise.\n",
    "    \"\"\"\n",
    "    # Ensure the brightness factor is within a valid range\n",
    "    brightness_factor = max(0, min(1, brightness_factor))\n",
    "    \n",
    "    # Reduce the brightness of the image\n",
    "    darker_image = (image.astype(np.float32) * brightness_factor)\n",
    "    \n",
    "    # Get the dimensions of the image\n",
    "    row, col, ch = image.shape\n",
    "    \n",
    "    # Generate Gaussian noise\n",
    "    gauss = np.random.normal(mean, sigma, (row, col, ch))\n",
    "    gauss = gauss.reshape(row, col, ch)\n",
    "    \n",
    "    # Add the Gaussian noise to the darker image\n",
    "    noisy = darker_image + gauss\n",
    "    \n",
    "    # Clip values to be in the valid range and convert back to an 8-bit unsigned integer\n",
    "    noisy= np.clip(noisy, 0, 255).astype(np.uint8)\n",
    "    \n",
    "    return noisy\n"
   ]
  },
  {
   "cell_type": "code",
   "execution_count": null,
   "id": "b7a587ca",
   "metadata": {},
   "outputs": [],
   "source": [
    "def results_to_list_gnoised(gnoised_image_name,main_image,sigma,mean,prediction_gnoised_results,original):\n",
    "    class_gnoised_info_list=[]\n",
    "    for result in prediction_gnoised_results:\n",
    "        classes=result.boxes.cls\n",
    "        confedance=result.boxes.conf\n",
    "        box_coordinats=result.boxes.xyxy\n",
    "    for i in range(len(classes)):\n",
    "        box_center_coordinate_x,box_center_coordinate_y=box_center_cal(box_coordinats[i])\n",
    "        object_depth=get_distances(depth_map_array,box_coordinats[i],method='median')\n",
    "        if original:\n",
    "            class_gnoised_info_list.append([str(gnoised_image_name),str(main_image),int(sigma),int(mean),int(classes.data[i]),float(confedance[i]),tuple([round(float(box_center_coordinate_x),0),round(float(box_center_coordinate_y),0)]),box_coordinats[i],object_depth,i])\n",
    "        else:\n",
    "            class_gnoised_info_list.append([str(gnoised_image_name),str(main_image),int(sigma),int(mean),int(classes.data[i]),float(confedance[i]),tuple([round(float(box_center_coordinate_x),0),round(float(box_center_coordinate_y),0)]),box_coordinats[i]])\n",
    "    return class_gnoised_info_list"
   ]
  },
  {
   "cell_type": "code",
   "execution_count": null,
   "id": "5e23c07d",
   "metadata": {},
   "outputs": [],
   "source": [
    "def fill_missing_classes_gnoised(original_list, gnoised_list,img,sigma_value,mean_value,main_image):\n",
    "    modified_gnosied_list = []\n",
    "    used_gnosied_indices = set()  # Track items that have been matched\n",
    "\n",
    "    # Define maximum allowed differences for position and size\n",
    "    max_position_difference = 40\n",
    "    max_size_difference = 40\n",
    "\n",
    "    # Iterate through each original item\n",
    "    for original_index, original_item in enumerate(original_list):\n",
    "        closest_match = None\n",
    "        closest_match_index = None\n",
    "        smallest_difference = float('inf')\n",
    "\n",
    "        # Iterate through each item to find the closest match\n",
    "        for gnoised_index, gnoised_item in enumerate(gnoised_list):\n",
    "            if gnoised_index in used_gnosied_indices:\n",
    "                continue  # Skip this item if it has been used\n",
    "\n",
    "            if original_item[4] == gnoised_item[4]:  # Check if classes match\n",
    "                # Calculate the total difference based on position and size\n",
    "                position_difference = abs(original_item[6][0] - gnoised_item[6][0]) + abs(original_item[6][1] - gnoised_item[6][1])\n",
    "                size_difference = abs(original_item[7][2] - gnoised_item[7][2]) + abs(original_item[7][3] - gnoised_item[7][3])\n",
    "\n",
    "                # Check if the differences are within the maximum allowed\n",
    "                if position_difference <= max_position_difference and size_difference <= max_size_difference:\n",
    "                    total_difference = position_difference + size_difference\n",
    "                    \n",
    "                    # If this item is the closest match so far, record it\n",
    "                    if total_difference < smallest_difference:\n",
    "                        closest_match = gnoised_item\n",
    "                        closest_match_index = gnoised_index\n",
    "                        smallest_difference = total_difference\n",
    "        \n",
    "        # If a closest match within the thresholds was found, add to the modified list\n",
    "        if closest_match is not None:\n",
    "            used_gnosied_indices.add(closest_match_index)  # Mark this item as used\n",
    "            original_depth = original_item[8]\n",
    "            modified_item = closest_match[:]  # Create a copy to avoid modifying the original\n",
    "            modified_item.insert(8, original_depth)  # Insert original depth\n",
    "            modified_item.insert(9, original_index)  # Insert original index\n",
    "            modified_gnosied_list.append(modified_item)      \n",
    "        else:\n",
    "            # No suitable match found within the bounds, add a placeholder\n",
    "            modified_gnosied_list.append([img,main_image,sigma_value,mean_value,\"No_detected\", 0, (0, 0),0,0,original_list.index(original_item)])\n",
    "\n",
    "    return modified_gnosied_list"
   ]
  },
  {
   "cell_type": "markdown",
   "id": "c2b1d70f",
   "metadata": {},
   "source": [
    "**Original image analysis before starting with applying the gaussian noise**"
   ]
  },
  {
   "cell_type": "code",
   "execution_count": null,
   "id": "2bf00cb0",
   "metadata": {
    "scrolled": false
   },
   "outputs": [],
   "source": [
    "before_gnoise_results=results_to_list_gnoised(image_name,image_name,0,0,results_original,True)"
   ]
  },
  {
   "cell_type": "code",
   "execution_count": null,
   "id": "5d05a321",
   "metadata": {},
   "outputs": [],
   "source": [
    "saving_excel(excel_file,\"Gnoise_study\",before_gnoise_results)"
   ]
  },
  {
   "cell_type": "markdown",
   "id": "3729fddd",
   "metadata": {},
   "source": [
    "**Adding gaussian noise to the original image**"
   ]
  },
  {
   "cell_type": "code",
   "execution_count": null,
   "id": "6f07dccc",
   "metadata": {},
   "outputs": [],
   "source": [
    "initial_sigma=2\n",
    "final_sigma=50\n",
    "step_sigma=4\n",
    "mean_value=0\n",
    "current_image = original_image.copy()\n",
    "\n",
    "for sigma in range(initial_sigma,final_sigma+4,step_sigma):\n",
    "    new_gnoisedimg_name=f\"gnoised_{sigma}.jpg\"\n",
    "    new_gnoisedimg=os.path.join(saving_directory,new_gnoisedimg_name)\n",
    "    projectname=os.path.splitext(new_gnoisedimg_name)[0]\n",
    "    \n",
    "    gnoised_image=add_gaussian_noise(current_image,brightness_factor=1,mean=mean_value,sigma=sigma)\n",
    "    cv2.imwrite(new_gnoisedimg,gnoised_image)\n",
    "    \n",
    "    current_image = gnoised_image.copy()\n",
    "    \n",
    "    results_gnoised = model(new_gnoisedimg,save=True, project=saving_directory, name=projectname,save_txt=True, save_conf=True)\n",
    "    results_list_gnoise=results_to_list_gnoised(new_gnoisedimg_name,image_name,sigma,mean_value,results_gnoised,False)\n",
    "\n",
    "    full_gnoised_list=fill_missing_classes_gnoised(before_gnoise_results,results_list_gnoise,new_gnoisedimg_name,sigma,mean_value,image_name)\n",
    "\n",
    "    saving_excel(excel_file,\"Gnoise_study\",full_gnoised_list)\n",
    "    saving_summary_excel(new_gnoisedimg_name,image_name,excel_file,results_gnoised)\n",
    "    \n",
    "print(\"Done Gaussian noise test\")"
   ]
  },
  {
   "cell_type": "markdown",
   "id": "e1439a29",
   "metadata": {},
   "source": [
    "## Post-processing for the study"
   ]
  },
  {
   "cell_type": "markdown",
   "id": "7bfda7f0",
   "metadata": {},
   "source": [
    "### Dead pixels study"
   ]
  },
  {
   "cell_type": "code",
   "execution_count": null,
   "id": "a8c2078a",
   "metadata": {
    "scrolled": true
   },
   "outputs": [],
   "source": [
    "postdf=pd.read_excel(excel_file,sheet_name=\"Dp_study\")"
   ]
  },
  {
   "cell_type": "code",
   "execution_count": null,
   "id": "e837b016",
   "metadata": {},
   "outputs": [],
   "source": [
    "postdf.head()"
   ]
  },
  {
   "cell_type": "code",
   "execution_count": null,
   "id": "6e1e316a",
   "metadata": {},
   "outputs": [],
   "source": [
    "postdf.describe()"
   ]
  },
  {
   "cell_type": "code",
   "execution_count": null,
   "id": "72240abe",
   "metadata": {},
   "outputs": [],
   "source": [
    "postdf.describe(include=\"object\")"
   ]
  },
  {
   "cell_type": "code",
   "execution_count": null,
   "id": "acd7cc6d",
   "metadata": {
    "scrolled": true
   },
   "outputs": [],
   "source": [
    "postdf[postdf['Class']==\"No_detected\"]"
   ]
  },
  {
   "cell_type": "code",
   "execution_count": null,
   "id": "c9adce1a",
   "metadata": {
    "scrolled": false
   },
   "outputs": [],
   "source": [
    "plt.figure(figsize=(25,10))\n",
    "sns.lineplot(x='Dead_pixels_Prop', y='Confidance',hue='unique_id', estimator=None, data=postdf,palette=\"bright\").set_title(\"Impact of dead pixels on class detection Confidance\")\n",
    "plt.show()"
   ]
  },
  {
   "cell_type": "code",
   "execution_count": null,
   "id": "50102925",
   "metadata": {},
   "outputs": [],
   "source": [
    "postdf['Object_Depth'] = pd.to_numeric(postdf['Object_Depth'], errors='coerce')"
   ]
  },
  {
   "cell_type": "code",
   "execution_count": null,
   "id": "71a0b3bf",
   "metadata": {},
   "outputs": [],
   "source": [
    "depth_ranges = [(0, 9), (9, 15), (15, 30), (30, 39),(39,float('inf'))]"
   ]
  },
  {
   "cell_type": "code",
   "execution_count": null,
   "id": "303adc11",
   "metadata": {
    "scrolled": true
   },
   "outputs": [],
   "source": [
    "fig, axes = plt.subplots(nrows=3, ncols=2, figsize=(20, 15))\n",
    "axes = axes.flatten()\n",
    "for i, (min_depth, max_depth) in enumerate(depth_ranges):\n",
    "    # Filter the dataframe based on the depth range\n",
    "    df_filtered = postdf[(postdf['Object_Depth'] > min_depth) & (postdf['Object_Depth'] <= max_depth)]\n",
    "    \n",
    "    # Plot\n",
    "    sns.lineplot(data=df_filtered, y='Confidance', x='Dead_pixels_Prop', hue='unique_id', ax=axes[i], palette=\"bright\")\n",
    "    axes[i].set_title(f'Depth Range: {min_depth}-{max_depth}m')\n",
    "    axes[i].set_xlabel('Dead Pixels Proportion')\n",
    "    axes[i].set_ylabel('Confidence')\n",
    "\n",
    "# Adjust layout\n",
    "plt.tight_layout()\n",
    "plt.show()"
   ]
  },
  {
   "cell_type": "code",
   "execution_count": null,
   "id": "0879c3b7",
   "metadata": {},
   "outputs": [],
   "source": [
    "postdf['Class'] = pd.to_numeric(postdf['Class'], errors='coerce')"
   ]
  },
  {
   "cell_type": "code",
   "execution_count": null,
   "id": "cd6596a7",
   "metadata": {},
   "outputs": [],
   "source": [
    "unique_classes = postdf['Class'].unique()"
   ]
  },
  {
   "cell_type": "code",
   "execution_count": null,
   "id": "78cc79c6",
   "metadata": {
    "scrolled": true
   },
   "outputs": [],
   "source": [
    "# Plotting\n",
    "for class_number in unique_classes:\n",
    "    if class_number == 2:  # Only plot if the class number is 2 (car)\n",
    "        df_class_filtered = postdf[postdf['Class'] == class_number]\n",
    "\n",
    "        fig, axes = plt.subplots(nrows=3, ncols=2, figsize=(20, 15))\n",
    "        axes_flat = axes.flatten()\n",
    "    \n",
    "    for i, (min_depth, max_depth) in enumerate(depth_ranges):\n",
    "        ax = axes_flat[i]\n",
    "        \n",
    "        # Filter the dataframe based on the depth range\n",
    "        df_filtered = df_class_filtered[(df_class_filtered['Object_Depth'] > min_depth) & (df_class_filtered['Object_Depth'] <= max_depth)]\n",
    "        \n",
    "        # Plot\n",
    "        sns.lineplot(data=df_filtered, y='Confidance', x='Dead_pixels_Prop', hue='unique_id', ax=ax, palette=\"bright\")\n",
    "        ax.set_title(f'Class {class_number}, Depth Range: {min_depth}-{max_depth}m')\n",
    "        ax.set_ylabel('Confidence')\n",
    "        ax.set_xlabel('Dead Pixels Proportion')\n",
    "\n",
    "    # Adjust layout and display the plot for the current class\n",
    "    plt.tight_layout()\n",
    "    plt.show()"
   ]
  },
  {
   "cell_type": "code",
   "execution_count": null,
   "id": "750a1851",
   "metadata": {},
   "outputs": [],
   "source": [
    "quantile_bins = postdf['Object_Depth'].quantile([0, 0.25, 0.5, 0.75, 1.0]).values\n",
    "quantile_labels = ['0-25%', '25-50%', '50-75%', '75-100%']\n",
    "postdf['Depth_Category'] = pd.cut(postdf['Object_Depth'], bins=quantile_bins, labels=quantile_labels, include_lowest=True)\n",
    "depth_quantile= postdf['Depth_Category'].unique()\n",
    "print(depth_quantile)\n"
   ]
  },
  {
   "cell_type": "markdown",
   "id": "9cd3fab8",
   "metadata": {},
   "source": [
    "### Bluring study"
   ]
  },
  {
   "cell_type": "code",
   "execution_count": null,
   "id": "219f621c",
   "metadata": {},
   "outputs": [],
   "source": [
    "postdf_blur=pd.read_excel(excel_file,sheet_name=\"Blur_study\")"
   ]
  },
  {
   "cell_type": "code",
   "execution_count": null,
   "id": "429442a9",
   "metadata": {},
   "outputs": [],
   "source": [
    "postdf_blur.head()"
   ]
  },
  {
   "cell_type": "code",
   "execution_count": null,
   "id": "018cf804",
   "metadata": {},
   "outputs": [],
   "source": [
    "postdf_blur['Object_Depth'] = pd.to_numeric(postdf_blur['Object_Depth'], errors='coerce')\n",
    "postdf_blur['Sigma_value'] = pd.to_numeric(postdf_blur['Sigma_value'], errors='coerce')"
   ]
  },
  {
   "cell_type": "code",
   "execution_count": null,
   "id": "e6c88dca",
   "metadata": {},
   "outputs": [],
   "source": [
    "plt.figure(figsize=(25,10))\n",
    "sns.lineplot(x='Sigma_value', y='Confidance',hue='unique_id', estimator=None, data=postdf_blur,palette=\"bright\").set_title(\"Impact of bluring on class detection Confidance\")\n",
    "plt.show()"
   ]
  },
  {
   "cell_type": "code",
   "execution_count": null,
   "id": "5b033611",
   "metadata": {
    "scrolled": true
   },
   "outputs": [],
   "source": [
    "fig, axes = plt.subplots(nrows=2, ncols=2, figsize=(20, 15))\n",
    "axes = axes.flatten()\n",
    "for i, (min_depth, max_depth) in enumerate(depth_ranges):\n",
    "    # Filter the dataframe based on the depth range\n",
    "    df_filtered = postdf_blur[(postdf_blur['Object_Depth'] > min_depth) & (postdf_blur['Object_Depth'] <= max_depth)]\n",
    "    \n",
    "    # Plot\n",
    "    sns.lineplot(data=df_filtered, y='Confidance', x='Sigma_value', hue='unique_id', ax=axes[i], palette=\"bright\")\n",
    "    axes[i].set_title(f'Depth Range: {min_depth}-{max_depth}m')\n",
    "    axes[i].set_xlabel('Sigma_value')\n",
    "    axes[i].set_ylabel('Confidence')\n",
    "\n",
    "# Adjust layout\n",
    "plt.tight_layout()\n",
    "plt.show()"
   ]
  },
  {
   "cell_type": "code",
   "execution_count": null,
   "id": "f46a95fe",
   "metadata": {},
   "outputs": [],
   "source": [
    "postdf_blur['Class'] = pd.to_numeric(postdf_blur['Class'], errors='coerce')"
   ]
  },
  {
   "cell_type": "code",
   "execution_count": null,
   "id": "75ab1452",
   "metadata": {},
   "outputs": [],
   "source": [
    "unique_classes = postdf_blur['Class'].unique()"
   ]
  },
  {
   "cell_type": "code",
   "execution_count": null,
   "id": "0cedb02f",
   "metadata": {},
   "outputs": [],
   "source": [
    "# Plotting\n",
    "for class_number in unique_classes:\n",
    "    if class_number == 2:  # Only plot if the class number is 2 (car)\n",
    "        df_class_filtered = postdf_blur[postdf_blur['Class'] == class_number]\n",
    "\n",
    "        fig, axes = plt.subplots(nrows=2, ncols=2, figsize=(20, 15))\n",
    "        axes_flat = axes.flatten()\n",
    "    \n",
    "    for i, (min_depth, max_depth) in enumerate(depth_ranges):\n",
    "        ax = axes_flat[i]\n",
    "        \n",
    "        # Filter the dataframe based on the depth range\n",
    "        df_filtered = df_class_filtered[(df_class_filtered['Object_Depth'] > min_depth) & (df_class_filtered['Object_Depth'] <= max_depth)]\n",
    "        \n",
    "        # Plot\n",
    "        sns.lineplot(data=df_filtered, y='Confidance', x='Sigma_value', hue='unique_id', ax=ax, palette=\"bright\")\n",
    "        ax.set_title(f'Class {class_number}, Depth Range: {min_depth}-{max_depth}m')\n",
    "        ax.set_ylabel('Confidence')\n",
    "        ax.set_xlabel('Sigma Values')\n",
    "\n",
    "    # Adjust layout and display the plot for the current class\n",
    "    plt.tight_layout()\n",
    "    plt.show()"
   ]
  },
  {
   "cell_type": "markdown",
   "id": "26945b1b",
   "metadata": {},
   "source": [
    "## Poisson Noise study"
   ]
  },
  {
   "cell_type": "code",
   "execution_count": null,
   "id": "75194196",
   "metadata": {},
   "outputs": [],
   "source": [
    "postdf_pnoise=pd.read_excel(excel_file,sheet_name=\"Pnoise_study_normal\")"
   ]
  },
  {
   "cell_type": "code",
   "execution_count": null,
   "id": "a055e80b",
   "metadata": {},
   "outputs": [],
   "source": [
    "postdf_pnoise.head()"
   ]
  },
  {
   "cell_type": "code",
   "execution_count": null,
   "id": "3a4cc30d",
   "metadata": {},
   "outputs": [],
   "source": [
    "postdf_pnoise['Object_Depth'] = pd.to_numeric(postdf_pnoise['Object_Depth'], errors='coerce')\n",
    "postdf_pnoise['K_value'] = pd.to_numeric(postdf_pnoise['K_value'], errors='coerce')"
   ]
  },
  {
   "cell_type": "code",
   "execution_count": null,
   "id": "e4233dc4",
   "metadata": {},
   "outputs": [],
   "source": [
    "plt.figure(figsize=(25,10))\n",
    "sns.lineplot(x='K_value', y='Confidance',hue='unique_id', estimator=None, data=postdf_pnoise,palette=\"bright\").set_title(\"Impact of bluring on class detection Confidance\")\n",
    "plt.show()"
   ]
  },
  {
   "cell_type": "code",
   "execution_count": null,
   "id": "7b9bbad5",
   "metadata": {
    "scrolled": true
   },
   "outputs": [],
   "source": [
    "fig, axes = plt.subplots(nrows=2, ncols=2, figsize=(20, 15))\n",
    "axes = axes.flatten()\n",
    "for i, (min_depth, max_depth) in enumerate(depth_ranges):\n",
    "    # Filter the dataframe based on the depth range\n",
    "    df_filtered = postdf_pnoise[(postdf_pnoise['Object_Depth'] > min_depth) & (postdf_pnoise['Object_Depth'] <= max_depth)]\n",
    "    \n",
    "    # Plot\n",
    "    sns.lineplot(data=df_filtered, y='Confidance', x='K_value', hue='unique_id', ax=axes[i], palette=\"bright\")\n",
    "    axes[i].set_title(f'Depth Range: {min_depth}-{max_depth}m')\n",
    "    axes[i].set_xlabel('K_value')\n",
    "    axes[i].set_ylabel('Confidence')\n",
    "\n",
    "# Adjust layout\n",
    "plt.tight_layout()\n",
    "plt.show()"
   ]
  },
  {
   "cell_type": "code",
   "execution_count": null,
   "id": "fbf96de7",
   "metadata": {},
   "outputs": [],
   "source": [
    "postdf_pnoise['Class'] = pd.to_numeric(postdf_pnoise['Class'], errors='coerce')"
   ]
  },
  {
   "cell_type": "code",
   "execution_count": null,
   "id": "5b228205",
   "metadata": {},
   "outputs": [],
   "source": [
    "unique_classes = postdf_pnoise['Class'].unique()"
   ]
  },
  {
   "cell_type": "code",
   "execution_count": null,
   "id": "a5812cc9",
   "metadata": {},
   "outputs": [],
   "source": [
    "# Plotting\n",
    "for class_number in unique_classes:\n",
    "    if class_number == 2:  # Only plot if the class number is 2 (car)\n",
    "        df_class_filtered = postdf_pnoise[postdf_pnoise['Class'] == class_number]\n",
    "\n",
    "        fig, axes = plt.subplots(nrows=2, ncols=2, figsize=(20, 15))\n",
    "        axes_flat = axes.flatten()\n",
    "    \n",
    "    for i, (min_depth, max_depth) in enumerate(depth_ranges):\n",
    "        ax = axes_flat[i]\n",
    "        \n",
    "        # Filter the dataframe based on the depth range\n",
    "        df_filtered = df_class_filtered[(df_class_filtered['Object_Depth'] > min_depth) & (df_class_filtered['Object_Depth'] <= max_depth)]\n",
    "        \n",
    "        # Plot\n",
    "        sns.lineplot(data=df_filtered, y='Confidance', x='K_value', hue='unique_id', ax=ax, palette=\"bright\")\n",
    "        ax.set_title(f'Class {class_number}, Depth Range: {min_depth}-{max_depth}m')\n",
    "        ax.set_ylabel('Confidence')\n",
    "        ax.set_xlabel('K_value')\n",
    "\n",
    "    # Adjust layout and display the plot for the current class\n",
    "    plt.tight_layout()\n",
    "    plt.show()"
   ]
  },
  {
   "cell_type": "markdown",
   "id": "ed423b84",
   "metadata": {},
   "source": [
    "## Gaussion noise study"
   ]
  },
  {
   "cell_type": "code",
   "execution_count": null,
   "id": "3ac0d819",
   "metadata": {},
   "outputs": [],
   "source": [
    "postdf_gnoise=pd.read_excel(excel_file,sheet_name=\"Gnoise_study\")"
   ]
  },
  {
   "cell_type": "code",
   "execution_count": null,
   "id": "eef03236",
   "metadata": {},
   "outputs": [],
   "source": [
    "postdf_gnoise.head()"
   ]
  },
  {
   "cell_type": "code",
   "execution_count": null,
   "id": "b5fb4e94",
   "metadata": {},
   "outputs": [],
   "source": [
    "postdf_gnoise['Object_Depth'] = pd.to_numeric(postdf_gnoise['Object_Depth'], errors='coerce')\n",
    "postdf_gnoise['Sigma_value'] = pd.to_numeric(postdf_gnoise['Sigma_value'], errors='coerce')"
   ]
  },
  {
   "cell_type": "code",
   "execution_count": null,
   "id": "c82f5748",
   "metadata": {},
   "outputs": [],
   "source": [
    "plt.figure(figsize=(25,10))\n",
    "sns.lineplot(x='Sigma_value', y='Confidance',hue='unique_id', estimator=None, data=postdf_gnoise,palette=\"bright\").set_title(\"Impact of Gaussion noise on class detection Confidance\")\n",
    "plt.show()"
   ]
  },
  {
   "cell_type": "code",
   "execution_count": null,
   "id": "fb5905d1",
   "metadata": {},
   "outputs": [],
   "source": [
    "fig, axes = plt.subplots(nrows=2, ncols=2, figsize=(20, 15))\n",
    "axes = axes.flatten()\n",
    "for i, (min_depth, max_depth) in enumerate(depth_ranges):\n",
    "    # Filter the dataframe based on the depth range\n",
    "    df_filtered = postdf_gnoise[(postdf_gnoise['Object_Depth'] > min_depth) & (postdf_gnoise['Object_Depth'] <= max_depth)]\n",
    "    \n",
    "    # Plot\n",
    "    sns.lineplot(data=df_filtered, y='Confidance', x='Sigma_value', hue='unique_id', ax=axes[i], palette=\"bright\")\n",
    "    axes[i].set_title(f'Depth Range: {min_depth}-{max_depth}m')\n",
    "    axes[i].set_xlabel('Sigma_value')\n",
    "    axes[i].set_ylabel('Confidence')\n",
    "    axes[i].tick_params(axis='both', labelsize=12)\n",
    "\n",
    "# Adjust layout\n",
    "plt.tight_layout()\n",
    "plt.show()"
   ]
  },
  {
   "cell_type": "code",
   "execution_count": null,
   "id": "4da204bf",
   "metadata": {},
   "outputs": [],
   "source": [
    "postdf_gnoise['Class'] = pd.to_numeric(postdf_gnoise['Class'], errors='coerce')"
   ]
  },
  {
   "cell_type": "code",
   "execution_count": null,
   "id": "6d01de6a",
   "metadata": {},
   "outputs": [],
   "source": [
    "unique_classes = postdf_gnoise['Class'].unique()"
   ]
  },
  {
   "cell_type": "code",
   "execution_count": null,
   "id": "8871f8ac",
   "metadata": {},
   "outputs": [],
   "source": [
    "# Plotting\n",
    "for class_number in unique_classes:\n",
    "    if class_number == 2:  # Only plot if the class number is 2 (car)\n",
    "        df_class_filtered = postdf_gnoise[postdf_gnoise['Class'] == class_number]\n",
    "\n",
    "        fig, axes = plt.subplots(nrows=2, ncols=2, figsize=(20, 15))\n",
    "        axes_flat = axes.flatten()\n",
    "    \n",
    "    for i, (min_depth, max_depth) in enumerate(depth_ranges):\n",
    "        ax = axes_flat[i]\n",
    "        \n",
    "        # Filter the dataframe based on the depth range\n",
    "        df_filtered = df_class_filtered[(df_class_filtered['Object_Depth'] > min_depth) & (df_class_filtered['Object_Depth'] <= max_depth)]\n",
    "        \n",
    "        # Plot\n",
    "        sns.lineplot(data=df_filtered, y='Confidance', x='Sigma_value', hue='unique_id', ax=ax, palette=\"bright\")\n",
    "        ax.set_title(f'Class {class_number}, Depth Range: {min_depth}-{max_depth}m')\n",
    "        ax.set_ylabel('Confidence')\n",
    "        ax.set_xlabel('Sigma_value')\n",
    "\n",
    "    # Adjust layout and display the plot for the current class\n",
    "    plt.tight_layout()\n",
    "    plt.show()"
   ]
  },
  {
   "cell_type": "markdown",
   "id": "ddbdf96f",
   "metadata": {},
   "source": [
    "## 344 Image-dp study"
   ]
  },
  {
   "cell_type": "code",
   "execution_count": 21,
   "id": "c7c26015",
   "metadata": {},
   "outputs": [],
   "source": [
    "df_344=pd.read_excel(excel_file,sheet_name=\"Dp_study_344\")"
   ]
  },
  {
   "cell_type": "code",
   "execution_count": 22,
   "id": "e8646381",
   "metadata": {
    "scrolled": true
   },
   "outputs": [
    {
     "data": {
      "image/png": "[encoded data removed]",
      "text/plain": [
       "<Figure size 2500x1000 with 1 Axes>"
      ]
     },
     "metadata": {},
     "output_type": "display_data"
    }
   ],
   "source": [
    "plt.figure(figsize=(25,10))\n",
    "sns.set(font_scale=2.0)\n",
    "sns.lineplot(x='Dead_pixels_Prop', y='Confidance',hue='unique_id', estimator=None, data=df_344,palette=\"bright\").set_title(\"Impact of dead pixels on class detection Confidance\")\n",
    "\n",
    "bold_id = '344_0'\n",
    "bold_line_data = df_344[df_344['unique_id'] == bold_id]\n",
    "sns.lineplot(x='Dead_pixels_Prop', y='Confidance', data=bold_line_data, color='blue', linewidth=4)  # Adjust color and linewidth as needed\n",
    "\n",
    "plt.show()"
   ]
  },
  {
   "cell_type": "markdown",
   "id": "ef98dd34",
   "metadata": {},
   "source": [
    "## 344 Image-blured study"
   ]
  },
  {
   "cell_type": "code",
   "execution_count": 23,
   "id": "a75a26ce",
   "metadata": {},
   "outputs": [],
   "source": [
    "df_344_blured=pd.read_excel(excel_file,sheet_name=\"Blur_study_344\")"
   ]
  },
  {
   "cell_type": "code",
   "execution_count": 24,
   "id": "04fd1ebb",
   "metadata": {},
   "outputs": [
    {
     "data": {
      "image/png": "[encoded data removed]",
      "text/plain": [
       "<Figure size 2500x1000 with 1 Axes>"
      ]
     },
     "metadata": {},
     "output_type": "display_data"
    }
   ],
   "source": [
    "plt.figure(figsize=(25,10))\n",
    "sns.set(font_scale=2.0)\n",
    "sns.lineplot(x='Sigma_value', y='Confidance',hue='unique_id', estimator=None, data=df_344_blured,palette=\"bright\").set_title(\"Impact of bluring on class detection Confidance\")\n",
    "bold_id = '344_0'\n",
    "bold_line_data = df_344_blured[df_344_blured['unique_id'] == bold_id]\n",
    "sns.lineplot(x='Sigma_value', y='Confidance', data=bold_line_data, color='blue', linewidth=4)  # Adjust color and linewidth as needed\n",
    "plt.show()"
   ]
  },
  {
   "cell_type": "markdown",
   "id": "9251fdce",
   "metadata": {},
   "source": [
    "## 344 Image-Pnoise study"
   ]
  },
  {
   "cell_type": "code",
   "execution_count": null,
   "id": "7d659960",
   "metadata": {},
   "outputs": [],
   "source": [
    "df_344_pnoise=pd.read_excel(excel_file,sheet_name=\"Pnoise_study_normal_344\")"
   ]
  },
  {
   "cell_type": "code",
   "execution_count": null,
   "id": "8dbccb6e",
   "metadata": {},
   "outputs": [],
   "source": [
    "plt.figure(figsize=(25,10))\n",
    "sns.set(font_scale=2.0)\n",
    "sns.lineplot(x='K_value', y='Confidance',hue='unique_id', estimator=None, data=df_344_pnoise,palette=\"bright\").set_title(\"Impact of poisson noise on class detection Confidance\")\n",
    "bold_id = '344_0'\n",
    "bold_line_data = df_344_pnoise[df_344_pnoise['unique_id'] == bold_id]\n",
    "sns.lineplot(x='K_value', y='Confidance', data=bold_line_data, color='blue', linewidth=4)  # Adjust color and linewidth as needed\n",
    "plt.show()"
   ]
  },
  {
   "cell_type": "markdown",
   "id": "bcd26a2c",
   "metadata": {},
   "source": [
    "## 344 Image-Gnoise study"
   ]
  },
  {
   "cell_type": "code",
   "execution_count": null,
   "id": "edfff862",
   "metadata": {},
   "outputs": [],
   "source": [
    "df_344_gnoise=pd.read_excel(excel_file,sheet_name=\"Gnoise_study_344\")"
   ]
  },
  {
   "cell_type": "code",
   "execution_count": null,
   "id": "b0c99e59",
   "metadata": {
    "scrolled": true
   },
   "outputs": [],
   "source": [
    "plt.figure(figsize=(25,10))\n",
    "sns.set(font_scale=2.0)\n",
    "sns.lineplot(x='Sigma_value', y='Confidance',hue='unique_id', estimator=None, data=df_344_gnoise,palette=\"bright\").set_title(\"Impact of gaussian noise on class detection Confidance\")\n",
    "bold_id = '344_0'\n",
    "bold_line_data = df_344_gnoise[df_344_gnoise['unique_id'] == bold_id]\n",
    "sns.lineplot(x='Sigma_value', y='Confidance', data=bold_line_data, color='blue', linewidth=4)  # Adjust color and linewidth as needed\n",
    "plt.show()"
   ]
  },
  {
   "cell_type": "code",
   "execution_count": null,
   "id": "b83f96ef",
   "metadata": {},
   "outputs": [],
   "source": []
  },
  {
   "cell_type": "code",
   "execution_count": null,
   "id": "a87e4e90",
   "metadata": {},
   "outputs": [],
   "source": []
  },
  {
   "cell_type": "code",
   "execution_count": null,
   "id": "4c314478",
   "metadata": {},
   "outputs": [],
   "source": []
  }
 ],
 "metadata": {
  "kernelspec": {
   "display_name": "Python 3 (ipykernel)",
   "language": "python",
   "name": "python3"
  },
  "language_info": {
   "codemirror_mode": {
    "name": "ipython",
    "version": 3
   },
   "file_extension": ".py",
   "mimetype": "text/x-python",
   "name": "python",
   "nbconvert_exporter": "python",
   "pygments_lexer": "ipython3",
   "version": "3.9.18"
  }
 },
 "nbformat": 4,
 "nbformat_minor": 5
}
